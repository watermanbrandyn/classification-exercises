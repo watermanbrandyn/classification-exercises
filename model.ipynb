{
 "cells": [
  {
   "cell_type": "code",
   "execution_count": 1,
   "id": "f7621e53",
   "metadata": {},
   "outputs": [],
   "source": [
    "import numpy as np\n",
    "import pandas as pd\n",
    "import matplotlib.pyplot as plt\n",
    "import seaborn as sns\n",
    "import scipy.stats as stats\n",
    "from pydataset import data\n",
    "from datetime import date\n",
    "import sklearn\n",
    "from sklearn.model_selection import train_test_split\n",
    "from sklearn.impute import SimpleImputer\n",
    "import warnings\n",
    "warnings.filterwarnings('ignore')\n",
    "from env import get_db_url, user, password, host\n",
    "import acquire\n",
    "import prepare"
   ]
  },
  {
   "cell_type": "code",
   "execution_count": 2,
   "id": "6c17e218",
   "metadata": {},
   "outputs": [],
   "source": [
    "# Using titanic data:\n",
    "# 1. What is your baseline prediction? What is your baseline accuracy? "
   ]
  },
  {
   "cell_type": "code",
   "execution_count": 3,
   "id": "ea3382f0",
   "metadata": {},
   "outputs": [
    {
     "name": "stdout",
     "output_type": "stream",
     "text": [
      "Using cached csv\n"
     ]
    }
   ],
   "source": [
    "titanic = acquire.get_titanic_data()"
   ]
  },
  {
   "cell_type": "code",
   "execution_count": 4,
   "id": "73547c5e",
   "metadata": {},
   "outputs": [],
   "source": [
    "titanic = prepare.prep_titanic(titanic)"
   ]
  },
  {
   "cell_type": "code",
   "execution_count": 5,
   "id": "e812c898",
   "metadata": {},
   "outputs": [
    {
     "data": {
      "text/html": [
       "<div>\n",
       "<style scoped>\n",
       "    .dataframe tbody tr th:only-of-type {\n",
       "        vertical-align: middle;\n",
       "    }\n",
       "\n",
       "    .dataframe tbody tr th {\n",
       "        vertical-align: top;\n",
       "    }\n",
       "\n",
       "    .dataframe thead th {\n",
       "        text-align: right;\n",
       "    }\n",
       "</style>\n",
       "<table border=\"1\" class=\"dataframe\">\n",
       "  <thead>\n",
       "    <tr style=\"text-align: right;\">\n",
       "      <th></th>\n",
       "      <th>survived</th>\n",
       "      <th>pclass</th>\n",
       "      <th>sibsp</th>\n",
       "      <th>parch</th>\n",
       "      <th>fare</th>\n",
       "      <th>alone</th>\n",
       "      <th>sex_male</th>\n",
       "      <th>embark_town_Queenstown</th>\n",
       "      <th>embark_town_Southampton</th>\n",
       "    </tr>\n",
       "  </thead>\n",
       "  <tbody>\n",
       "    <tr>\n",
       "      <th>0</th>\n",
       "      <td>0</td>\n",
       "      <td>3</td>\n",
       "      <td>1</td>\n",
       "      <td>0</td>\n",
       "      <td>7.2500</td>\n",
       "      <td>0</td>\n",
       "      <td>1</td>\n",
       "      <td>0</td>\n",
       "      <td>1</td>\n",
       "    </tr>\n",
       "    <tr>\n",
       "      <th>1</th>\n",
       "      <td>1</td>\n",
       "      <td>1</td>\n",
       "      <td>1</td>\n",
       "      <td>0</td>\n",
       "      <td>71.2833</td>\n",
       "      <td>0</td>\n",
       "      <td>0</td>\n",
       "      <td>0</td>\n",
       "      <td>0</td>\n",
       "    </tr>\n",
       "    <tr>\n",
       "      <th>2</th>\n",
       "      <td>1</td>\n",
       "      <td>3</td>\n",
       "      <td>0</td>\n",
       "      <td>0</td>\n",
       "      <td>7.9250</td>\n",
       "      <td>1</td>\n",
       "      <td>0</td>\n",
       "      <td>0</td>\n",
       "      <td>1</td>\n",
       "    </tr>\n",
       "    <tr>\n",
       "      <th>3</th>\n",
       "      <td>1</td>\n",
       "      <td>1</td>\n",
       "      <td>1</td>\n",
       "      <td>0</td>\n",
       "      <td>53.1000</td>\n",
       "      <td>0</td>\n",
       "      <td>0</td>\n",
       "      <td>0</td>\n",
       "      <td>1</td>\n",
       "    </tr>\n",
       "    <tr>\n",
       "      <th>4</th>\n",
       "      <td>0</td>\n",
       "      <td>3</td>\n",
       "      <td>0</td>\n",
       "      <td>0</td>\n",
       "      <td>8.0500</td>\n",
       "      <td>1</td>\n",
       "      <td>1</td>\n",
       "      <td>0</td>\n",
       "      <td>1</td>\n",
       "    </tr>\n",
       "  </tbody>\n",
       "</table>\n",
       "</div>"
      ],
      "text/plain": [
       "   survived  pclass  sibsp  parch     fare  alone  sex_male  \\\n",
       "0         0       3      1      0   7.2500      0         1   \n",
       "1         1       1      1      0  71.2833      0         0   \n",
       "2         1       3      0      0   7.9250      1         0   \n",
       "3         1       1      1      0  53.1000      0         0   \n",
       "4         0       3      0      0   8.0500      1         1   \n",
       "\n",
       "   embark_town_Queenstown  embark_town_Southampton  \n",
       "0                       0                        1  \n",
       "1                       0                        0  \n",
       "2                       0                        1  \n",
       "3                       0                        1  \n",
       "4                       0                        1  "
      ]
     },
     "execution_count": 5,
     "metadata": {},
     "output_type": "execute_result"
    }
   ],
   "source": [
    "titanic.head()"
   ]
  },
  {
   "cell_type": "code",
   "execution_count": 6,
   "id": "c2bdd14b",
   "metadata": {},
   "outputs": [
    {
     "data": {
      "text/plain": [
       "0    549\n",
       "1    342\n",
       "Name: survived, dtype: int64"
      ]
     },
     "execution_count": 6,
     "metadata": {},
     "output_type": "execute_result"
    }
   ],
   "source": [
    "titanic.survived.value_counts()"
   ]
  },
  {
   "cell_type": "code",
   "execution_count": 7,
   "id": "8dcf6529",
   "metadata": {},
   "outputs": [],
   "source": [
    "# Our target value is 'survived' and the baseline is 0 (did not survive)"
   ]
  },
  {
   "cell_type": "code",
   "execution_count": 8,
   "id": "7f23c5c7",
   "metadata": {},
   "outputs": [],
   "source": [
    "titanic['baseline'] = 0"
   ]
  },
  {
   "cell_type": "code",
   "execution_count": 9,
   "id": "85bf942e",
   "metadata": {},
   "outputs": [
    {
     "data": {
      "text/plain": [
       "0.6161616161616161"
      ]
     },
     "execution_count": 9,
     "metadata": {},
     "output_type": "execute_result"
    }
   ],
   "source": [
    "sklearn.metrics.accuracy_score(titanic.survived, titanic.baseline)"
   ]
  },
  {
   "cell_type": "code",
   "execution_count": 10,
   "id": "569f70f8",
   "metadata": {},
   "outputs": [],
   "source": [
    "# 2. Fit the decision tree classifier to training sample and transform\n",
    "# Create train, validate, test split of data"
   ]
  },
  {
   "cell_type": "code",
   "execution_count": 11,
   "id": "11469350",
   "metadata": {},
   "outputs": [],
   "source": [
    "def train_validate_test_split(df, target, seed=123):\n",
    "    '''\n",
    "    - Takes in df, name of target variable, and integer for setting a seed\n",
    "    - Splits the data into train, validate, and test\n",
    "    - Test is 20% of original dataset, validate is .3 * .8 = 24%, train is .7 * .8 = 56% of original dataset\n",
    "    - Function returns train, validate, test df\n",
    "    '''\n",
    "    train_validate, test = train_test_split(df, test_size=.2, random_state = seed, stratify=df[target])\n",
    "    train, validate = train_test_split(train_validate, test_size=.3, random_state=seed, stratify=train_validate[target])\n",
    "    return train, validate, test"
   ]
  },
  {
   "cell_type": "code",
   "execution_count": 12,
   "id": "36f15dea",
   "metadata": {},
   "outputs": [],
   "source": [
    "t_train, t_val, t_test = train_validate_test_split(titanic, 'survived')"
   ]
  },
  {
   "cell_type": "code",
   "execution_count": 13,
   "id": "646d2c9b",
   "metadata": {},
   "outputs": [
    {
     "data": {
      "text/plain": [
       "((498, 10), (214, 10), (179, 10))"
      ]
     },
     "execution_count": 13,
     "metadata": {},
     "output_type": "execute_result"
    }
   ],
   "source": [
    "t_train.shape, t_val.shape, t_test.shape"
   ]
  },
  {
   "cell_type": "code",
   "execution_count": 14,
   "id": "f6ff89c3",
   "metadata": {},
   "outputs": [],
   "source": [
    "x_train = t_train.drop(columns='survived')\n",
    "y_train = t_train.survived\n",
    "\n",
    "x_validate = t_val.drop(columns=['survived'])\n",
    "y_validate = t_val.survived\n",
    "\n",
    "x_test = t_test.drop(columns='survived')\n",
    "y_test = t_test.survived"
   ]
  },
  {
   "cell_type": "code",
   "execution_count": 15,
   "id": "e5290b5d",
   "metadata": {},
   "outputs": [],
   "source": [
    "from sklearn.tree import DecisionTreeClassifier, plot_tree"
   ]
  },
  {
   "cell_type": "code",
   "execution_count": 16,
   "id": "e997c1de",
   "metadata": {},
   "outputs": [],
   "source": [
    "clf = DecisionTreeClassifier(max_depth=3, random_state=123)"
   ]
  },
  {
   "cell_type": "code",
   "execution_count": 17,
   "id": "40c0af25",
   "metadata": {},
   "outputs": [],
   "source": [
    "clf = clf.fit(x_train, y_train)"
   ]
  },
  {
   "cell_type": "code",
   "execution_count": 18,
   "id": "d76ff0a3",
   "metadata": {},
   "outputs": [
    {
     "data": {
      "text/plain": [
       "[Text(362.7, 332.955, 'sex_male <= 0.5\\ngini = 0.473\\nsamples = 498\\nvalue = [307, 191]\\nclass = not survived'),\n",
       " Text(181.35, 237.825, 'pclass <= 2.5\\ngini = 0.365\\nsamples = 175\\nvalue = [42, 133]\\nclass = survived'),\n",
       " Text(90.675, 142.695, 'fare <= 28.856\\ngini = 0.081\\nsamples = 94\\nvalue = [4, 90]\\nclass = survived'),\n",
       " Text(45.3375, 47.565, 'gini = 0.133\\nsamples = 42\\nvalue = [3, 39]\\nclass = survived'),\n",
       " Text(136.0125, 47.565, 'gini = 0.038\\nsamples = 52\\nvalue = [1, 51]\\nclass = survived'),\n",
       " Text(272.025, 142.695, 'fare <= 23.912\\ngini = 0.498\\nsamples = 81\\nvalue = [38, 43]\\nclass = survived'),\n",
       " Text(226.6875, 47.565, 'gini = 0.476\\nsamples = 69\\nvalue = [27, 42]\\nclass = survived'),\n",
       " Text(317.3625, 47.565, 'gini = 0.153\\nsamples = 12\\nvalue = [11, 1]\\nclass = not survived'),\n",
       " Text(544.05, 237.825, 'fare <= 18.275\\ngini = 0.295\\nsamples = 323\\nvalue = [265, 58]\\nclass = not survived'),\n",
       " Text(453.375, 142.695, 'parch <= 0.5\\ngini = 0.184\\nsamples = 205\\nvalue = [184, 21]\\nclass = not survived'),\n",
       " Text(408.03749999999997, 47.565, 'gini = 0.173\\nsamples = 199\\nvalue = [180, 19]\\nclass = not survived'),\n",
       " Text(498.7125, 47.565, 'gini = 0.444\\nsamples = 6\\nvalue = [4, 2]\\nclass = not survived'),\n",
       " Text(634.725, 142.695, 'fare <= 19.637\\ngini = 0.43\\nsamples = 118\\nvalue = [81, 37]\\nclass = not survived'),\n",
       " Text(589.3874999999999, 47.565, 'gini = 0.0\\nsamples = 2\\nvalue = [0, 2]\\nclass = survived'),\n",
       " Text(680.0625, 47.565, 'gini = 0.421\\nsamples = 116\\nvalue = [81, 35]\\nclass = not survived')]"
      ]
     },
     "execution_count": 18,
     "metadata": {},
     "output_type": "execute_result"
    },
    {
     "data": {
      "image/png": "[encoded data removed]",
      "text/plain": [
       "<Figure size 936x504 with 1 Axes>"
      ]
     },
     "metadata": {
      "needs_background": "light"
     },
     "output_type": "display_data"
    }
   ],
   "source": [
    "plt.figure(figsize=(13,7))\n",
    "plot_tree(clf, feature_names=x_train.columns, class_names=['not survived', 'survived'], rounded = True)"
   ]
  },
  {
   "cell_type": "code",
   "execution_count": 19,
   "id": "38b8232c",
   "metadata": {},
   "outputs": [],
   "source": [
    "# 3. Evaluate your in-sample results using the model score, confusion matrix, and classification report"
   ]
  },
  {
   "cell_type": "code",
   "execution_count": 20,
   "id": "9a77637b",
   "metadata": {},
   "outputs": [],
   "source": [
    "y_pred = clf.predict(x_train)"
   ]
  },
  {
   "cell_type": "code",
   "execution_count": 21,
   "id": "fe873004",
   "metadata": {},
   "outputs": [],
   "source": [
    "y_pred_proba = clf.predict_proba(x_train)"
   ]
  },
  {
   "cell_type": "code",
   "execution_count": 22,
   "id": "43cfdab4",
   "metadata": {},
   "outputs": [
    {
     "data": {
      "text/plain": [
       "0.8232931726907631"
      ]
     },
     "execution_count": 22,
     "metadata": {},
     "output_type": "execute_result"
    }
   ],
   "source": [
    "clf.score(x_train, y_train)"
   ]
  },
  {
   "cell_type": "code",
   "execution_count": 23,
   "id": "42409c05",
   "metadata": {},
   "outputs": [
    {
     "data": {
      "text/plain": [
       "array([[276,  31],\n",
       "       [ 57, 134]])"
      ]
     },
     "execution_count": 23,
     "metadata": {},
     "output_type": "execute_result"
    }
   ],
   "source": [
    "from sklearn.metrics import confusion_matrix\n",
    "confusion_matrix(y_train, y_pred)"
   ]
  },
  {
   "cell_type": "code",
   "execution_count": 24,
   "id": "b3fff1e2",
   "metadata": {},
   "outputs": [
    {
     "data": {
      "text/plain": [
       "0    307\n",
       "1    191\n",
       "Name: survived, dtype: int64"
      ]
     },
     "execution_count": 24,
     "metadata": {},
     "output_type": "execute_result"
    }
   ],
   "source": [
    "y_train.value_counts()"
   ]
  },
  {
   "cell_type": "code",
   "execution_count": 25,
   "id": "4b4a90e7",
   "metadata": {},
   "outputs": [],
   "source": [
    "labels = sorted(y_train.unique())"
   ]
  },
  {
   "cell_type": "code",
   "execution_count": 26,
   "id": "c03390b1",
   "metadata": {},
   "outputs": [
    {
     "data": {
      "text/html": [
       "<div>\n",
       "<style scoped>\n",
       "    .dataframe tbody tr th:only-of-type {\n",
       "        vertical-align: middle;\n",
       "    }\n",
       "\n",
       "    .dataframe tbody tr th {\n",
       "        vertical-align: top;\n",
       "    }\n",
       "\n",
       "    .dataframe thead th {\n",
       "        text-align: right;\n",
       "    }\n",
       "</style>\n",
       "<table border=\"1\" class=\"dataframe\">\n",
       "  <thead>\n",
       "    <tr style=\"text-align: right;\">\n",
       "      <th></th>\n",
       "      <th>0</th>\n",
       "      <th>1</th>\n",
       "    </tr>\n",
       "  </thead>\n",
       "  <tbody>\n",
       "    <tr>\n",
       "      <th>0</th>\n",
       "      <td>276</td>\n",
       "      <td>31</td>\n",
       "    </tr>\n",
       "    <tr>\n",
       "      <th>1</th>\n",
       "      <td>57</td>\n",
       "      <td>134</td>\n",
       "    </tr>\n",
       "  </tbody>\n",
       "</table>\n",
       "</div>"
      ],
      "text/plain": [
       "     0    1\n",
       "0  276   31\n",
       "1   57  134"
      ]
     },
     "execution_count": 26,
     "metadata": {},
     "output_type": "execute_result"
    }
   ],
   "source": [
    "pd.DataFrame(confusion_matrix(y_train, y_pred), index=labels, columns=labels)"
   ]
  },
  {
   "cell_type": "code",
   "execution_count": 27,
   "id": "32a00e14",
   "metadata": {},
   "outputs": [
    {
     "name": "stdout",
     "output_type": "stream",
     "text": [
      "              precision    recall  f1-score   support\n",
      "\n",
      "           0       0.83      0.90      0.86       307\n",
      "           1       0.81      0.70      0.75       191\n",
      "\n",
      "    accuracy                           0.82       498\n",
      "   macro avg       0.82      0.80      0.81       498\n",
      "weighted avg       0.82      0.82      0.82       498\n",
      "\n"
     ]
    }
   ],
   "source": [
    "from sklearn.metrics import classification_report\n",
    "print(classification_report(y_train, y_pred))"
   ]
  },
  {
   "cell_type": "code",
   "execution_count": 28,
   "id": "2dd395a0",
   "metadata": {},
   "outputs": [
    {
     "data": {
      "text/plain": [
       "0.7850467289719626"
      ]
     },
     "execution_count": 28,
     "metadata": {},
     "output_type": "execute_result"
    }
   ],
   "source": [
    "# 4. Conpute accuracy, true positive rate, false positive rate, true negative reate, false negative rate, precision\n",
    "# recall, f1-score, support\n",
    "clf.score(x_validate, y_validate)"
   ]
  },
  {
   "cell_type": "code",
   "execution_count": 29,
   "id": "643147f4",
   "metadata": {},
   "outputs": [],
   "source": [
    "y_pred = clf.predict(x_validate)"
   ]
  },
  {
   "cell_type": "code",
   "execution_count": 30,
   "id": "7e811d5a",
   "metadata": {},
   "outputs": [
    {
     "name": "stdout",
     "output_type": "stream",
     "text": [
      "              precision    recall  f1-score   support\n",
      "\n",
      "           0       0.80      0.87      0.83       132\n",
      "           1       0.76      0.65      0.70        82\n",
      "\n",
      "    accuracy                           0.79       214\n",
      "   macro avg       0.78      0.76      0.77       214\n",
      "weighted avg       0.78      0.79      0.78       214\n",
      "\n"
     ]
    }
   ],
   "source": [
    "print(classification_report(y_validate, y_pred))"
   ]
  },
  {
   "cell_type": "code",
   "execution_count": 31,
   "id": "120da7e1",
   "metadata": {},
   "outputs": [],
   "source": [
    "# 5. Repeat with a diff. max_depth"
   ]
  },
  {
   "cell_type": "code",
   "execution_count": 32,
   "id": "2a0a32ed",
   "metadata": {},
   "outputs": [],
   "source": [
    "clf = DecisionTreeClassifier(max_depth=4, random_state=123)"
   ]
  },
  {
   "cell_type": "code",
   "execution_count": 33,
   "id": "d45cb59c",
   "metadata": {},
   "outputs": [],
   "source": [
    "clf = clf.fit(x_train, y_train)"
   ]
  },
  {
   "cell_type": "code",
   "execution_count": 34,
   "id": "0c84f2f1",
   "metadata": {},
   "outputs": [
    {
     "data": {
      "text/plain": [
       "[Text(607.8214285714286, 978.48, 'sex_male <= 0.5\\ngini = 0.473\\nsamples = 498\\nvalue = [307, 191]\\nclass = not survived'),\n",
       " Text(318.85714285714283, 761.0400000000001, 'pclass <= 2.5\\ngini = 0.365\\nsamples = 175\\nvalue = [42, 133]\\nclass = survived'),\n",
       " Text(159.42857142857142, 543.6, 'fare <= 28.856\\ngini = 0.081\\nsamples = 94\\nvalue = [4, 90]\\nclass = survived'),\n",
       " Text(79.71428571428571, 326.1600000000001, 'fare <= 28.231\\ngini = 0.133\\nsamples = 42\\nvalue = [3, 39]\\nclass = survived'),\n",
       " Text(39.857142857142854, 108.72000000000003, 'gini = 0.093\\nsamples = 41\\nvalue = [2, 39]\\nclass = survived'),\n",
       " Text(119.57142857142856, 108.72000000000003, 'gini = 0.0\\nsamples = 1\\nvalue = [1, 0]\\nclass = not survived'),\n",
       " Text(239.1428571428571, 326.1600000000001, 'parch <= 1.5\\ngini = 0.038\\nsamples = 52\\nvalue = [1, 51]\\nclass = survived'),\n",
       " Text(199.28571428571428, 108.72000000000003, 'gini = 0.0\\nsamples = 48\\nvalue = [0, 48]\\nclass = survived'),\n",
       " Text(279.0, 108.72000000000003, 'gini = 0.375\\nsamples = 4\\nvalue = [1, 3]\\nclass = survived'),\n",
       " Text(478.2857142857142, 543.6, 'fare <= 23.912\\ngini = 0.498\\nsamples = 81\\nvalue = [38, 43]\\nclass = survived'),\n",
       " Text(398.57142857142856, 326.1600000000001, 'embark_town_Queenstown <= 0.5\\ngini = 0.476\\nsamples = 69\\nvalue = [27, 42]\\nclass = survived'),\n",
       " Text(358.71428571428567, 108.72000000000003, 'gini = 0.498\\nsamples = 49\\nvalue = [23, 26]\\nclass = survived'),\n",
       " Text(438.4285714285714, 108.72000000000003, 'gini = 0.32\\nsamples = 20\\nvalue = [4, 16]\\nclass = survived'),\n",
       " Text(558.0, 326.1600000000001, 'parch <= 4.0\\ngini = 0.153\\nsamples = 12\\nvalue = [11, 1]\\nclass = not survived'),\n",
       " Text(518.1428571428571, 108.72000000000003, 'gini = 0.0\\nsamples = 10\\nvalue = [10, 0]\\nclass = not survived'),\n",
       " Text(597.8571428571428, 108.72000000000003, 'gini = 0.5\\nsamples = 2\\nvalue = [1, 1]\\nclass = not survived'),\n",
       " Text(896.7857142857142, 761.0400000000001, 'fare <= 18.275\\ngini = 0.295\\nsamples = 323\\nvalue = [265, 58]\\nclass = not survived'),\n",
       " Text(797.1428571428571, 543.6, 'parch <= 0.5\\ngini = 0.184\\nsamples = 205\\nvalue = [184, 21]\\nclass = not survived'),\n",
       " Text(717.4285714285713, 326.1600000000001, 'fare <= 13.25\\ngini = 0.173\\nsamples = 199\\nvalue = [180, 19]\\nclass = not survived'),\n",
       " Text(677.5714285714286, 108.72000000000003, 'gini = 0.184\\nsamples = 185\\nvalue = [166, 19]\\nclass = not survived'),\n",
       " Text(757.2857142857142, 108.72000000000003, 'gini = 0.0\\nsamples = 14\\nvalue = [14, 0]\\nclass = not survived'),\n",
       " Text(876.8571428571428, 326.1600000000001, 'fare <= 15.0\\ngini = 0.444\\nsamples = 6\\nvalue = [4, 2]\\nclass = not survived'),\n",
       " Text(836.9999999999999, 108.72000000000003, 'gini = 0.5\\nsamples = 4\\nvalue = [2, 2]\\nclass = not survived'),\n",
       " Text(916.7142857142857, 108.72000000000003, 'gini = 0.0\\nsamples = 2\\nvalue = [2, 0]\\nclass = not survived'),\n",
       " Text(996.4285714285713, 543.6, 'fare <= 19.637\\ngini = 0.43\\nsamples = 118\\nvalue = [81, 37]\\nclass = not survived'),\n",
       " Text(956.5714285714284, 326.1600000000001, 'gini = 0.0\\nsamples = 2\\nvalue = [0, 2]\\nclass = survived'),\n",
       " Text(1036.2857142857142, 326.1600000000001, 'sibsp <= 2.5\\ngini = 0.421\\nsamples = 116\\nvalue = [81, 35]\\nclass = not survived'),\n",
       " Text(996.4285714285713, 108.72000000000003, 'gini = 0.444\\nsamples = 102\\nvalue = [68, 34]\\nclass = not survived'),\n",
       " Text(1076.142857142857, 108.72000000000003, 'gini = 0.133\\nsamples = 14\\nvalue = [13, 1]\\nclass = not survived')]"
      ]
     },
     "execution_count": 34,
     "metadata": {},
     "output_type": "execute_result"
    },
    {
     "data": {
      "image/png": "[encoded data removed]",
      "text/plain": [
       "<Figure size 1440x1440 with 1 Axes>"
      ]
     },
     "metadata": {
      "needs_background": "light"
     },
     "output_type": "display_data"
    }
   ],
   "source": [
    "plt.figure(figsize=(20,20))\n",
    "plot_tree(clf, feature_names=x_train.columns, class_names=['not survived', 'survived'], rounded = True)"
   ]
  },
  {
   "cell_type": "code",
   "execution_count": 35,
   "id": "c8ad1ec4",
   "metadata": {},
   "outputs": [],
   "source": [
    "y_pred = clf.predict(x_train)"
   ]
  },
  {
   "cell_type": "code",
   "execution_count": 36,
   "id": "e3968e09",
   "metadata": {},
   "outputs": [],
   "source": [
    "y_pred_proba = clf.predict_proba(x_train)"
   ]
  },
  {
   "cell_type": "code",
   "execution_count": 37,
   "id": "2b61cd02",
   "metadata": {},
   "outputs": [
    {
     "data": {
      "text/plain": [
       "0.8253012048192772"
      ]
     },
     "execution_count": 37,
     "metadata": {},
     "output_type": "execute_result"
    }
   ],
   "source": [
    "clf.score(x_train, y_train)"
   ]
  },
  {
   "cell_type": "code",
   "execution_count": 38,
   "id": "d481c96e",
   "metadata": {},
   "outputs": [
    {
     "data": {
      "text/plain": [
       "array([[277,  30],\n",
       "       [ 57, 134]])"
      ]
     },
     "execution_count": 38,
     "metadata": {},
     "output_type": "execute_result"
    }
   ],
   "source": [
    "confusion_matrix(y_train, y_pred)"
   ]
  },
  {
   "cell_type": "code",
   "execution_count": 39,
   "id": "b2f1df76",
   "metadata": {},
   "outputs": [
    {
     "data": {
      "text/plain": [
       "0    307\n",
       "1    191\n",
       "Name: survived, dtype: int64"
      ]
     },
     "execution_count": 39,
     "metadata": {},
     "output_type": "execute_result"
    }
   ],
   "source": [
    "y_train.value_counts()"
   ]
  },
  {
   "cell_type": "code",
   "execution_count": 40,
   "id": "dd64f577",
   "metadata": {},
   "outputs": [
    {
     "data": {
      "text/html": [
       "<div>\n",
       "<style scoped>\n",
       "    .dataframe tbody tr th:only-of-type {\n",
       "        vertical-align: middle;\n",
       "    }\n",
       "\n",
       "    .dataframe tbody tr th {\n",
       "        vertical-align: top;\n",
       "    }\n",
       "\n",
       "    .dataframe thead th {\n",
       "        text-align: right;\n",
       "    }\n",
       "</style>\n",
       "<table border=\"1\" class=\"dataframe\">\n",
       "  <thead>\n",
       "    <tr style=\"text-align: right;\">\n",
       "      <th></th>\n",
       "      <th>0</th>\n",
       "      <th>1</th>\n",
       "    </tr>\n",
       "  </thead>\n",
       "  <tbody>\n",
       "    <tr>\n",
       "      <th>0</th>\n",
       "      <td>277</td>\n",
       "      <td>30</td>\n",
       "    </tr>\n",
       "    <tr>\n",
       "      <th>1</th>\n",
       "      <td>57</td>\n",
       "      <td>134</td>\n",
       "    </tr>\n",
       "  </tbody>\n",
       "</table>\n",
       "</div>"
      ],
      "text/plain": [
       "     0    1\n",
       "0  277   30\n",
       "1   57  134"
      ]
     },
     "execution_count": 40,
     "metadata": {},
     "output_type": "execute_result"
    }
   ],
   "source": [
    "pd.DataFrame(confusion_matrix(y_train, y_pred), index=labels, columns=labels)"
   ]
  },
  {
   "cell_type": "code",
   "execution_count": 41,
   "id": "e7bb577c",
   "metadata": {},
   "outputs": [
    {
     "name": "stdout",
     "output_type": "stream",
     "text": [
      "              precision    recall  f1-score   support\n",
      "\n",
      "           0       0.83      0.90      0.86       307\n",
      "           1       0.82      0.70      0.75       191\n",
      "\n",
      "    accuracy                           0.83       498\n",
      "   macro avg       0.82      0.80      0.81       498\n",
      "weighted avg       0.82      0.83      0.82       498\n",
      "\n"
     ]
    }
   ],
   "source": [
    "print(classification_report(y_train, y_pred))"
   ]
  },
  {
   "cell_type": "code",
   "execution_count": 42,
   "id": "26fd8e6a",
   "metadata": {},
   "outputs": [
    {
     "data": {
      "text/plain": [
       "0.7850467289719626"
      ]
     },
     "execution_count": 42,
     "metadata": {},
     "output_type": "execute_result"
    }
   ],
   "source": [
    "clf.score(x_validate, y_validate)"
   ]
  },
  {
   "cell_type": "code",
   "execution_count": 43,
   "id": "55a510c1",
   "metadata": {},
   "outputs": [],
   "source": [
    "y_pred = clf.predict(x_validate)"
   ]
  },
  {
   "cell_type": "code",
   "execution_count": 44,
   "id": "bdb217c3",
   "metadata": {},
   "outputs": [
    {
     "name": "stdout",
     "output_type": "stream",
     "text": [
      "              precision    recall  f1-score   support\n",
      "\n",
      "           0       0.80      0.87      0.83       132\n",
      "           1       0.76      0.65      0.70        82\n",
      "\n",
      "    accuracy                           0.79       214\n",
      "   macro avg       0.78      0.76      0.77       214\n",
      "weighted avg       0.78      0.79      0.78       214\n",
      "\n"
     ]
    }
   ],
   "source": [
    "print(classification_report(y_validate, y_pred))"
   ]
  },
  {
   "cell_type": "code",
   "execution_count": 45,
   "id": "4ff90c9e",
   "metadata": {},
   "outputs": [],
   "source": [
    "# 6. The larger max_depth performs better on the in sample (train) data\n",
    "# 7. The larger max_depth performs better for the validate set as well. "
   ]
  },
  {
   "cell_type": "code",
   "execution_count": 46,
   "id": "afc77812",
   "metadata": {},
   "outputs": [],
   "source": [
    "############################# Do these exercises using the telco dataset ########################################"
   ]
  },
  {
   "cell_type": "code",
   "execution_count": 46,
   "id": "9125674b",
   "metadata": {},
   "outputs": [
    {
     "name": "stdout",
     "output_type": "stream",
     "text": [
      "Using cached csv\n"
     ]
    }
   ],
   "source": [
    "telco = acquire.get_telco_data()"
   ]
  },
  {
   "cell_type": "code",
   "execution_count": 47,
   "id": "a49b6839",
   "metadata": {},
   "outputs": [],
   "source": [
    "telco = prepare.prep_telco(telco)"
   ]
  },
  {
   "cell_type": "code",
   "execution_count": 48,
   "id": "08699b5c",
   "metadata": {},
   "outputs": [
    {
     "data": {
      "text/html": [
       "<div>\n",
       "<style scoped>\n",
       "    .dataframe tbody tr th:only-of-type {\n",
       "        vertical-align: middle;\n",
       "    }\n",
       "\n",
       "    .dataframe tbody tr th {\n",
       "        vertical-align: top;\n",
       "    }\n",
       "\n",
       "    .dataframe thead th {\n",
       "        text-align: right;\n",
       "    }\n",
       "</style>\n",
       "<table border=\"1\" class=\"dataframe\">\n",
       "  <thead>\n",
       "    <tr style=\"text-align: right;\">\n",
       "      <th></th>\n",
       "      <th>monthly_charges</th>\n",
       "      <th>total_charges</th>\n",
       "      <th>gender_Male</th>\n",
       "      <th>partner_Yes</th>\n",
       "      <th>dependents_Yes</th>\n",
       "      <th>phone_service_Yes</th>\n",
       "      <th>multiple_lines_No phone service</th>\n",
       "      <th>multiple_lines_Yes</th>\n",
       "      <th>online_security_No internet service</th>\n",
       "      <th>online_security_Yes</th>\n",
       "      <th>...</th>\n",
       "      <th>streaming_movies_Yes</th>\n",
       "      <th>paperless_billing_Yes</th>\n",
       "      <th>churn_Yes</th>\n",
       "      <th>internet_service_type_Fiber optic</th>\n",
       "      <th>internet_service_type_None</th>\n",
       "      <th>contract_type_One year</th>\n",
       "      <th>contract_type_Two year</th>\n",
       "      <th>payment_type_Credit card (automatic)</th>\n",
       "      <th>payment_type_Electronic check</th>\n",
       "      <th>payment_type_Mailed check</th>\n",
       "    </tr>\n",
       "  </thead>\n",
       "  <tbody>\n",
       "    <tr>\n",
       "      <th>0</th>\n",
       "      <td>65.6</td>\n",
       "      <td>593.30</td>\n",
       "      <td>0</td>\n",
       "      <td>1</td>\n",
       "      <td>1</td>\n",
       "      <td>1</td>\n",
       "      <td>0</td>\n",
       "      <td>0</td>\n",
       "      <td>0</td>\n",
       "      <td>0</td>\n",
       "      <td>...</td>\n",
       "      <td>0</td>\n",
       "      <td>1</td>\n",
       "      <td>0</td>\n",
       "      <td>0</td>\n",
       "      <td>0</td>\n",
       "      <td>1</td>\n",
       "      <td>0</td>\n",
       "      <td>0</td>\n",
       "      <td>0</td>\n",
       "      <td>1</td>\n",
       "    </tr>\n",
       "    <tr>\n",
       "      <th>1</th>\n",
       "      <td>59.9</td>\n",
       "      <td>542.40</td>\n",
       "      <td>1</td>\n",
       "      <td>0</td>\n",
       "      <td>0</td>\n",
       "      <td>1</td>\n",
       "      <td>0</td>\n",
       "      <td>1</td>\n",
       "      <td>0</td>\n",
       "      <td>0</td>\n",
       "      <td>...</td>\n",
       "      <td>1</td>\n",
       "      <td>0</td>\n",
       "      <td>0</td>\n",
       "      <td>0</td>\n",
       "      <td>0</td>\n",
       "      <td>0</td>\n",
       "      <td>0</td>\n",
       "      <td>0</td>\n",
       "      <td>0</td>\n",
       "      <td>1</td>\n",
       "    </tr>\n",
       "    <tr>\n",
       "      <th>2</th>\n",
       "      <td>73.9</td>\n",
       "      <td>280.85</td>\n",
       "      <td>1</td>\n",
       "      <td>0</td>\n",
       "      <td>0</td>\n",
       "      <td>1</td>\n",
       "      <td>0</td>\n",
       "      <td>0</td>\n",
       "      <td>0</td>\n",
       "      <td>0</td>\n",
       "      <td>...</td>\n",
       "      <td>0</td>\n",
       "      <td>1</td>\n",
       "      <td>1</td>\n",
       "      <td>1</td>\n",
       "      <td>0</td>\n",
       "      <td>0</td>\n",
       "      <td>0</td>\n",
       "      <td>0</td>\n",
       "      <td>1</td>\n",
       "      <td>0</td>\n",
       "    </tr>\n",
       "    <tr>\n",
       "      <th>3</th>\n",
       "      <td>98.0</td>\n",
       "      <td>1237.85</td>\n",
       "      <td>1</td>\n",
       "      <td>1</td>\n",
       "      <td>0</td>\n",
       "      <td>1</td>\n",
       "      <td>0</td>\n",
       "      <td>0</td>\n",
       "      <td>0</td>\n",
       "      <td>0</td>\n",
       "      <td>...</td>\n",
       "      <td>1</td>\n",
       "      <td>1</td>\n",
       "      <td>1</td>\n",
       "      <td>1</td>\n",
       "      <td>0</td>\n",
       "      <td>0</td>\n",
       "      <td>0</td>\n",
       "      <td>0</td>\n",
       "      <td>1</td>\n",
       "      <td>0</td>\n",
       "    </tr>\n",
       "    <tr>\n",
       "      <th>4</th>\n",
       "      <td>83.9</td>\n",
       "      <td>267.40</td>\n",
       "      <td>0</td>\n",
       "      <td>1</td>\n",
       "      <td>0</td>\n",
       "      <td>1</td>\n",
       "      <td>0</td>\n",
       "      <td>0</td>\n",
       "      <td>0</td>\n",
       "      <td>0</td>\n",
       "      <td>...</td>\n",
       "      <td>0</td>\n",
       "      <td>1</td>\n",
       "      <td>1</td>\n",
       "      <td>1</td>\n",
       "      <td>0</td>\n",
       "      <td>0</td>\n",
       "      <td>0</td>\n",
       "      <td>0</td>\n",
       "      <td>0</td>\n",
       "      <td>1</td>\n",
       "    </tr>\n",
       "  </tbody>\n",
       "</table>\n",
       "<p>5 rows × 29 columns</p>\n",
       "</div>"
      ],
      "text/plain": [
       "   monthly_charges  total_charges  gender_Male  partner_Yes  dependents_Yes  \\\n",
       "0             65.6         593.30            0            1               1   \n",
       "1             59.9         542.40            1            0               0   \n",
       "2             73.9         280.85            1            0               0   \n",
       "3             98.0        1237.85            1            1               0   \n",
       "4             83.9         267.40            0            1               0   \n",
       "\n",
       "   phone_service_Yes  multiple_lines_No phone service  multiple_lines_Yes  \\\n",
       "0                  1                                0                   0   \n",
       "1                  1                                0                   1   \n",
       "2                  1                                0                   0   \n",
       "3                  1                                0                   0   \n",
       "4                  1                                0                   0   \n",
       "\n",
       "   online_security_No internet service  online_security_Yes  ...  \\\n",
       "0                                    0                    0  ...   \n",
       "1                                    0                    0  ...   \n",
       "2                                    0                    0  ...   \n",
       "3                                    0                    0  ...   \n",
       "4                                    0                    0  ...   \n",
       "\n",
       "   streaming_movies_Yes  paperless_billing_Yes  churn_Yes  \\\n",
       "0                     0                      1          0   \n",
       "1                     1                      0          0   \n",
       "2                     0                      1          1   \n",
       "3                     1                      1          1   \n",
       "4                     0                      1          1   \n",
       "\n",
       "   internet_service_type_Fiber optic  internet_service_type_None  \\\n",
       "0                                  0                           0   \n",
       "1                                  0                           0   \n",
       "2                                  1                           0   \n",
       "3                                  1                           0   \n",
       "4                                  1                           0   \n",
       "\n",
       "   contract_type_One year  contract_type_Two year  \\\n",
       "0                       1                       0   \n",
       "1                       0                       0   \n",
       "2                       0                       0   \n",
       "3                       0                       0   \n",
       "4                       0                       0   \n",
       "\n",
       "   payment_type_Credit card (automatic)  payment_type_Electronic check  \\\n",
       "0                                     0                              0   \n",
       "1                                     0                              0   \n",
       "2                                     0                              1   \n",
       "3                                     0                              1   \n",
       "4                                     0                              0   \n",
       "\n",
       "   payment_type_Mailed check  \n",
       "0                          1  \n",
       "1                          1  \n",
       "2                          0  \n",
       "3                          0  \n",
       "4                          1  \n",
       "\n",
       "[5 rows x 29 columns]"
      ]
     },
     "execution_count": 48,
     "metadata": {},
     "output_type": "execute_result"
    }
   ],
   "source": [
    "telco.head()"
   ]
  },
  {
   "cell_type": "code",
   "execution_count": 49,
   "id": "a3441bc7",
   "metadata": {},
   "outputs": [],
   "source": [
    "# Locating the NaN values in df\n",
    "is_nan = telco.isnull()\n",
    "row_has_nan = is_nan.any(axis=1)\n",
    "rows_with_nan = telco[row_has_nan]"
   ]
  },
  {
   "cell_type": "code",
   "execution_count": 52,
   "id": "b0577c45",
   "metadata": {},
   "outputs": [
    {
     "data": {
      "text/plain": [
       "0    5163\n",
       "1    1869\n",
       "Name: churn_Yes, dtype: int64"
      ]
     },
     "execution_count": 52,
     "metadata": {},
     "output_type": "execute_result"
    }
   ],
   "source": [
    "telco.churn_Yes.value_counts()"
   ]
  },
  {
   "cell_type": "code",
   "execution_count": 51,
   "id": "5f5c6d98",
   "metadata": {},
   "outputs": [
    {
     "data": {
      "text/plain": [
       "False"
      ]
     },
     "execution_count": 51,
     "metadata": {},
     "output_type": "execute_result"
    }
   ],
   "source": [
    "telco.isnull().values.any()"
   ]
  },
  {
   "cell_type": "code",
   "execution_count": 53,
   "id": "f629674c",
   "metadata": {},
   "outputs": [],
   "source": [
    "# The baseline is to not churn (target variable is churn)\n",
    "telco['baseline'] = 0"
   ]
  },
  {
   "cell_type": "code",
   "execution_count": 54,
   "id": "3b6aa54d",
   "metadata": {},
   "outputs": [
    {
     "data": {
      "text/plain": [
       "0.7342150170648464"
      ]
     },
     "execution_count": 54,
     "metadata": {},
     "output_type": "execute_result"
    }
   ],
   "source": [
    "sklearn.metrics.accuracy_score(telco.churn_Yes, telco.baseline)"
   ]
  },
  {
   "cell_type": "code",
   "execution_count": 55,
   "id": "efd4f4d0",
   "metadata": {},
   "outputs": [],
   "source": [
    "train, validate, test = train_validate_test_split(telco, 'churn_Yes', seed=123)"
   ]
  },
  {
   "cell_type": "code",
   "execution_count": 69,
   "id": "5c2e1226",
   "metadata": {},
   "outputs": [
    {
     "data": {
      "text/plain": [
       "((3937, 30), (1688, 30), (1407, 30))"
      ]
     },
     "execution_count": 69,
     "metadata": {},
     "output_type": "execute_result"
    }
   ],
   "source": [
    "train.shape, validate.shape, test.shape"
   ]
  },
  {
   "cell_type": "code",
   "execution_count": 70,
   "id": "0496242d",
   "metadata": {},
   "outputs": [],
   "source": [
    "x_train = train.drop(columns='churn_Yes')\n",
    "x_validate = validate.drop(columns='churn_Yes')\n",
    "x_test = test.drop(columns='churn_Yes')"
   ]
  },
  {
   "cell_type": "code",
   "execution_count": 71,
   "id": "967bb787",
   "metadata": {},
   "outputs": [],
   "source": [
    "y_train = train.churn_Yes\n",
    "y_validate = validate.churn_Yes\n",
    "y_test = test.churn_Yes"
   ]
  },
  {
   "cell_type": "code",
   "execution_count": 72,
   "id": "9a82f992",
   "metadata": {},
   "outputs": [],
   "source": [
    "clf = DecisionTreeClassifier(max_depth = 3, random_state=123)"
   ]
  },
  {
   "cell_type": "code",
   "execution_count": 73,
   "id": "7a125475",
   "metadata": {},
   "outputs": [],
   "source": [
    "clf = clf.fit(x_train, y_train)"
   ]
  },
  {
   "cell_type": "code",
   "execution_count": 74,
   "id": "78b59a35",
   "metadata": {},
   "outputs": [
    {
     "data": {
      "text/plain": [
       "[Text(502.20000000000005, 856.1700000000001, 'internet_service_type_Fiber optic <= 0.5\\ngini = 0.39\\nsamples = 3937\\nvalue = [2891, 1046]\\nclass = no churn'),\n",
       " Text(251.10000000000002, 611.55, 'total_charges <= 237.275\\ngini = 0.241\\nsamples = 2215\\nvalue = [1904, 311]\\nclass = no churn'),\n",
       " Text(125.55000000000001, 366.93000000000006, 'internet_service_type_None <= 0.5\\ngini = 0.453\\nsamples = 539\\nvalue = [352, 187]\\nclass = no churn'),\n",
       " Text(62.775000000000006, 122.30999999999995, 'gini = 0.5\\nsamples = 263\\nvalue = [129, 134]\\nclass = churn'),\n",
       " Text(188.32500000000002, 122.30999999999995, 'gini = 0.31\\nsamples = 276\\nvalue = [223, 53]\\nclass = no churn'),\n",
       " Text(376.65000000000003, 366.93000000000006, 'contract_type_Two year <= 0.5\\ngini = 0.137\\nsamples = 1676\\nvalue = [1552, 124]\\nclass = no churn'),\n",
       " Text(313.875, 122.30999999999995, 'gini = 0.203\\nsamples = 985\\nvalue = [872, 113]\\nclass = no churn'),\n",
       " Text(439.42500000000007, 122.30999999999995, 'gini = 0.031\\nsamples = 691\\nvalue = [680, 11]\\nclass = no churn'),\n",
       " Text(753.3000000000001, 611.55, 'total_charges <= 1493.025\\ngini = 0.489\\nsamples = 1722\\nvalue = [987, 735]\\nclass = no churn'),\n",
       " Text(627.75, 366.93000000000006, 'total_charges <= 124.475\\ngini = 0.415\\nsamples = 598\\nvalue = [176, 422]\\nclass = churn'),\n",
       " Text(564.975, 122.30999999999995, 'gini = 0.203\\nsamples = 131\\nvalue = [15, 116]\\nclass = churn'),\n",
       " Text(690.5250000000001, 122.30999999999995, 'gini = 0.452\\nsamples = 467\\nvalue = [161, 306]\\nclass = churn'),\n",
       " Text(878.8500000000001, 366.93000000000006, 'total_charges <= 4551.05\\ngini = 0.402\\nsamples = 1124\\nvalue = [811, 313]\\nclass = no churn'),\n",
       " Text(816.075, 122.30999999999995, 'gini = 0.48\\nsamples = 533\\nvalue = [320, 213]\\nclass = no churn'),\n",
       " Text(941.6250000000001, 122.30999999999995, 'gini = 0.281\\nsamples = 591\\nvalue = [491, 100]\\nclass = no churn')]"
      ]
     },
     "execution_count": 74,
     "metadata": {},
     "output_type": "execute_result"
    },
    {
     "data": {
      "image/png": "[encoded data removed]",
      "text/plain": [
       "<Figure size 1296x1296 with 1 Axes>"
      ]
     },
     "metadata": {
      "needs_background": "light"
     },
     "output_type": "display_data"
    }
   ],
   "source": [
    "plt.figure(figsize=(18, 18))\n",
    "plot_tree(clf, feature_names=x_train.columns, class_names=['no churn', 'churn'], rounded=True)"
   ]
  },
  {
   "cell_type": "code",
   "execution_count": 90,
   "id": "2f2e7e6f",
   "metadata": {},
   "outputs": [],
   "source": [
    "y_pred = clf.predict(x_train)"
   ]
  },
  {
   "cell_type": "code",
   "execution_count": 91,
   "id": "ed4e5b1e",
   "metadata": {},
   "outputs": [],
   "source": [
    "y_prep_proba = clf.predict_proba(x_train)"
   ]
  },
  {
   "cell_type": "code",
   "execution_count": 92,
   "id": "51fab334",
   "metadata": {},
   "outputs": [
    {
     "data": {
      "text/plain": [
       "0.7980695961391923"
      ]
     },
     "execution_count": 92,
     "metadata": {},
     "output_type": "execute_result"
    }
   ],
   "source": [
    "clf.score(x_train, y_train)"
   ]
  },
  {
   "cell_type": "code",
   "execution_count": 93,
   "id": "0c323192",
   "metadata": {},
   "outputs": [
    {
     "data": {
      "text/plain": [
       "array([[2586,  305],\n",
       "       [ 490,  556]])"
      ]
     },
     "execution_count": 93,
     "metadata": {},
     "output_type": "execute_result"
    }
   ],
   "source": [
    "confusion_matrix(y_train, y_pred)"
   ]
  },
  {
   "cell_type": "code",
   "execution_count": 94,
   "id": "4d4c2a37",
   "metadata": {},
   "outputs": [
    {
     "data": {
      "text/plain": [
       "0    2891\n",
       "1    1046\n",
       "Name: churn_Yes, dtype: int64"
      ]
     },
     "execution_count": 94,
     "metadata": {},
     "output_type": "execute_result"
    }
   ],
   "source": [
    "y_train.value_counts()"
   ]
  },
  {
   "cell_type": "code",
   "execution_count": 95,
   "id": "bfb8ad39",
   "metadata": {},
   "outputs": [
    {
     "data": {
      "text/html": [
       "<div>\n",
       "<style scoped>\n",
       "    .dataframe tbody tr th:only-of-type {\n",
       "        vertical-align: middle;\n",
       "    }\n",
       "\n",
       "    .dataframe tbody tr th {\n",
       "        vertical-align: top;\n",
       "    }\n",
       "\n",
       "    .dataframe thead th {\n",
       "        text-align: right;\n",
       "    }\n",
       "</style>\n",
       "<table border=\"1\" class=\"dataframe\">\n",
       "  <thead>\n",
       "    <tr style=\"text-align: right;\">\n",
       "      <th></th>\n",
       "      <th>0</th>\n",
       "      <th>1</th>\n",
       "    </tr>\n",
       "  </thead>\n",
       "  <tbody>\n",
       "    <tr>\n",
       "      <th>0</th>\n",
       "      <td>2586</td>\n",
       "      <td>305</td>\n",
       "    </tr>\n",
       "    <tr>\n",
       "      <th>1</th>\n",
       "      <td>490</td>\n",
       "      <td>556</td>\n",
       "    </tr>\n",
       "  </tbody>\n",
       "</table>\n",
       "</div>"
      ],
      "text/plain": [
       "      0    1\n",
       "0  2586  305\n",
       "1   490  556"
      ]
     },
     "execution_count": 95,
     "metadata": {},
     "output_type": "execute_result"
    }
   ],
   "source": [
    "labels = sorted(y_train.unique())\n",
    "pd.DataFrame(confusion_matrix(y_train, y_pred), index=labels, columns=labels)"
   ]
  },
  {
   "cell_type": "code",
   "execution_count": 96,
   "id": "1731f612",
   "metadata": {},
   "outputs": [
    {
     "name": "stdout",
     "output_type": "stream",
     "text": [
      "              precision    recall  f1-score   support\n",
      "\n",
      "           0       0.84      0.89      0.87      2891\n",
      "           1       0.65      0.53      0.58      1046\n",
      "\n",
      "    accuracy                           0.80      3937\n",
      "   macro avg       0.74      0.71      0.72      3937\n",
      "weighted avg       0.79      0.80      0.79      3937\n",
      "\n"
     ]
    }
   ],
   "source": [
    "print(classification_report(y_train, y_pred))"
   ]
  },
  {
   "cell_type": "code",
   "execution_count": 97,
   "id": "b01b6bc1",
   "metadata": {},
   "outputs": [
    {
     "data": {
      "text/plain": [
       "0.7742890995260664"
      ]
     },
     "execution_count": 97,
     "metadata": {},
     "output_type": "execute_result"
    }
   ],
   "source": [
    "clf.score(x_validate, y_validate)"
   ]
  },
  {
   "cell_type": "code",
   "execution_count": 98,
   "id": "5162ea06",
   "metadata": {},
   "outputs": [],
   "source": [
    "y_pred = clf.predict(x_validate)"
   ]
  },
  {
   "cell_type": "code",
   "execution_count": 99,
   "id": "99bd3c47",
   "metadata": {},
   "outputs": [
    {
     "name": "stdout",
     "output_type": "stream",
     "text": [
      "              precision    recall  f1-score   support\n",
      "\n",
      "           0       0.83      0.87      0.85      1239\n",
      "           1       0.59      0.50      0.54       449\n",
      "\n",
      "    accuracy                           0.77      1688\n",
      "   macro avg       0.71      0.69      0.70      1688\n",
      "weighted avg       0.76      0.77      0.77      1688\n",
      "\n"
     ]
    }
   ],
   "source": [
    "print(classification_report(y_validate, y_pred))"
   ]
  },
  {
   "cell_type": "code",
   "execution_count": 104,
   "id": "1f88f5fc",
   "metadata": {},
   "outputs": [],
   "source": [
    "clf = DecisionTreeClassifier(max_depth = 2, random_state=123)"
   ]
  },
  {
   "cell_type": "code",
   "execution_count": 105,
   "id": "38b60cd0",
   "metadata": {},
   "outputs": [],
   "source": [
    "clf = clf.fit(x_train, y_train)"
   ]
  },
  {
   "cell_type": "code",
   "execution_count": 106,
   "id": "1d747db1",
   "metadata": {},
   "outputs": [
    {
     "data": {
      "text/plain": [
       "[Text(362.7, 317.09999999999997, 'internet_service_type_Fiber optic <= 0.5\\ngini = 0.39\\nsamples = 3937\\nvalue = [2891, 1046]\\nclass = no churn'),\n",
       " Text(181.35, 190.26, 'total_charges <= 237.275\\ngini = 0.241\\nsamples = 2215\\nvalue = [1904, 311]\\nclass = no churn'),\n",
       " Text(90.675, 63.420000000000016, 'gini = 0.453\\nsamples = 539\\nvalue = [352, 187]\\nclass = no churn'),\n",
       " Text(272.025, 63.420000000000016, 'gini = 0.137\\nsamples = 1676\\nvalue = [1552, 124]\\nclass = no churn'),\n",
       " Text(544.05, 190.26, 'total_charges <= 1493.025\\ngini = 0.489\\nsamples = 1722\\nvalue = [987, 735]\\nclass = no churn'),\n",
       " Text(453.375, 63.420000000000016, 'gini = 0.415\\nsamples = 598\\nvalue = [176, 422]\\nclass = churn'),\n",
       " Text(634.725, 63.420000000000016, 'gini = 0.402\\nsamples = 1124\\nvalue = [811, 313]\\nclass = no churn')]"
      ]
     },
     "execution_count": 106,
     "metadata": {},
     "output_type": "execute_result"
    },
    {
     "data": {
      "image/png": "[encoded data removed]",
      "text/plain": [
       "<Figure size 936x504 with 1 Axes>"
      ]
     },
     "metadata": {
      "needs_background": "light"
     },
     "output_type": "display_data"
    }
   ],
   "source": [
    "plt.figure(figsize=(13,7))\n",
    "plot_tree(clf, feature_names = x_train.columns, class_names=['no churn', 'churn'], rounded = True)"
   ]
  },
  {
   "cell_type": "code",
   "execution_count": 107,
   "id": "962457d8",
   "metadata": {},
   "outputs": [],
   "source": [
    "y_pred = clf.predict(x_train)"
   ]
  },
  {
   "cell_type": "code",
   "execution_count": 108,
   "id": "f431daba",
   "metadata": {},
   "outputs": [
    {
     "data": {
      "text/plain": [
       "0.7967995935991872"
      ]
     },
     "execution_count": 108,
     "metadata": {},
     "output_type": "execute_result"
    }
   ],
   "source": [
    "clf.score(x_train, y_train)"
   ]
  },
  {
   "cell_type": "code",
   "execution_count": 109,
   "id": "df69b7c0",
   "metadata": {},
   "outputs": [
    {
     "data": {
      "text/plain": [
       "array([[2715,  176],\n",
       "       [ 624,  422]])"
      ]
     },
     "execution_count": 109,
     "metadata": {},
     "output_type": "execute_result"
    }
   ],
   "source": [
    "confusion_matrix(y_train, y_pred)"
   ]
  },
  {
   "cell_type": "code",
   "execution_count": 110,
   "id": "da541573",
   "metadata": {},
   "outputs": [
    {
     "data": {
      "text/plain": [
       "0    2891\n",
       "1    1046\n",
       "Name: churn_Yes, dtype: int64"
      ]
     },
     "execution_count": 110,
     "metadata": {},
     "output_type": "execute_result"
    }
   ],
   "source": [
    "y_train.value_counts()"
   ]
  },
  {
   "cell_type": "code",
   "execution_count": 111,
   "id": "ea470d42",
   "metadata": {},
   "outputs": [
    {
     "data": {
      "text/html": [
       "<div>\n",
       "<style scoped>\n",
       "    .dataframe tbody tr th:only-of-type {\n",
       "        vertical-align: middle;\n",
       "    }\n",
       "\n",
       "    .dataframe tbody tr th {\n",
       "        vertical-align: top;\n",
       "    }\n",
       "\n",
       "    .dataframe thead th {\n",
       "        text-align: right;\n",
       "    }\n",
       "</style>\n",
       "<table border=\"1\" class=\"dataframe\">\n",
       "  <thead>\n",
       "    <tr style=\"text-align: right;\">\n",
       "      <th></th>\n",
       "      <th>0</th>\n",
       "      <th>1</th>\n",
       "    </tr>\n",
       "  </thead>\n",
       "  <tbody>\n",
       "    <tr>\n",
       "      <th>0</th>\n",
       "      <td>2715</td>\n",
       "      <td>176</td>\n",
       "    </tr>\n",
       "    <tr>\n",
       "      <th>1</th>\n",
       "      <td>624</td>\n",
       "      <td>422</td>\n",
       "    </tr>\n",
       "  </tbody>\n",
       "</table>\n",
       "</div>"
      ],
      "text/plain": [
       "      0    1\n",
       "0  2715  176\n",
       "1   624  422"
      ]
     },
     "execution_count": 111,
     "metadata": {},
     "output_type": "execute_result"
    }
   ],
   "source": [
    "pd.DataFrame(confusion_matrix(y_train, y_pred), index=labels, columns=labels)"
   ]
  },
  {
   "cell_type": "code",
   "execution_count": 112,
   "id": "6fd36dfc",
   "metadata": {},
   "outputs": [
    {
     "name": "stdout",
     "output_type": "stream",
     "text": [
      "              precision    recall  f1-score   support\n",
      "\n",
      "           0       0.81      0.94      0.87      2891\n",
      "           1       0.71      0.40      0.51      1046\n",
      "\n",
      "    accuracy                           0.80      3937\n",
      "   macro avg       0.76      0.67      0.69      3937\n",
      "weighted avg       0.78      0.80      0.78      3937\n",
      "\n"
     ]
    }
   ],
   "source": [
    "print(classification_report(y_train, y_pred))"
   ]
  },
  {
   "cell_type": "code",
   "execution_count": 113,
   "id": "2cceb258",
   "metadata": {},
   "outputs": [
    {
     "data": {
      "text/plain": [
       "0.7725118483412322"
      ]
     },
     "execution_count": 113,
     "metadata": {},
     "output_type": "execute_result"
    }
   ],
   "source": [
    "clf.score(x_validate, y_validate)"
   ]
  },
  {
   "cell_type": "code",
   "execution_count": 116,
   "id": "02ad92a6",
   "metadata": {},
   "outputs": [
    {
     "name": "stdout",
     "output_type": "stream",
     "text": [
      "              precision    recall  f1-score   support\n",
      "\n",
      "           0       0.80      0.91      0.85      1239\n",
      "           1       0.61      0.39      0.48       449\n",
      "\n",
      "    accuracy                           0.77      1688\n",
      "   macro avg       0.71      0.65      0.67      1688\n",
      "weighted avg       0.75      0.77      0.75      1688\n",
      "\n"
     ]
    }
   ],
   "source": [
    "y_pred = clf.predict(x_validate)\n",
    "print(classification_report(y_validate, y_pred))"
   ]
  },
  {
   "cell_type": "code",
   "execution_count": 117,
   "id": "4cc8cf5c",
   "metadata": {},
   "outputs": [],
   "source": [
    "# There is not as much difference as I would've expected between the max_depth of 2 or 3 for this data. The larger\n",
    "# max_depth still provides better results, but not by as much as I would have guessed. "
   ]
  },
  {
   "cell_type": "code",
   "execution_count": 118,
   "id": "cf0def55",
   "metadata": {},
   "outputs": [],
   "source": [
    "################################################################################################################"
   ]
  },
  {
   "cell_type": "code",
   "execution_count": 119,
   "id": "ca580d38",
   "metadata": {},
   "outputs": [],
   "source": [
    "# Random Forest Exercise"
   ]
  },
  {
   "cell_type": "code",
   "execution_count": 120,
   "id": "4f7a9773",
   "metadata": {},
   "outputs": [],
   "source": [
    "# 1. Fit the Random Forest classifier to your training sample and tansform, setting random_state accordingly and \n",
    "# setting min_samples_leaf = 1 and max_depth = 10"
   ]
  },
  {
   "cell_type": "code",
   "execution_count": 121,
   "id": "f9f9d76f",
   "metadata": {},
   "outputs": [],
   "source": [
    "from sklearn.ensemble import RandomForestClassifier"
   ]
  },
  {
   "cell_type": "code",
   "execution_count": 128,
   "id": "66fb7fdd",
   "metadata": {},
   "outputs": [
    {
     "name": "stdout",
     "output_type": "stream",
     "text": [
      "Using cached csv\n"
     ]
    }
   ],
   "source": [
    "titanic = acquire.get_titanic_data()"
   ]
  },
  {
   "cell_type": "code",
   "execution_count": 129,
   "id": "cd842b2d",
   "metadata": {},
   "outputs": [],
   "source": [
    "titanic = prepare.prep_titanic(titanic)"
   ]
  },
  {
   "cell_type": "code",
   "execution_count": 130,
   "id": "be760b9c",
   "metadata": {},
   "outputs": [],
   "source": [
    "train, validate, test = train_validate_test_split(titanic, 'survived', seed=123)"
   ]
  },
  {
   "cell_type": "code",
   "execution_count": 131,
   "id": "72185fae",
   "metadata": {},
   "outputs": [
    {
     "data": {
      "text/plain": [
       "((498, 9), (214, 9), (179, 9))"
      ]
     },
     "execution_count": 131,
     "metadata": {},
     "output_type": "execute_result"
    }
   ],
   "source": [
    "train.shape, validate.shape, test.shape"
   ]
  },
  {
   "cell_type": "code",
   "execution_count": 132,
   "id": "6476ef27",
   "metadata": {},
   "outputs": [],
   "source": [
    "x_train = train.drop(columns='survived')\n",
    "y_train = train.survived"
   ]
  },
  {
   "cell_type": "code",
   "execution_count": 133,
   "id": "10e5b46d",
   "metadata": {},
   "outputs": [],
   "source": [
    "x_validate = validate.drop(columns='survived')\n",
    "y_validate = validate.survived\n",
    "x_test = test.drop(columns='survived')\n",
    "y_test = test.survived"
   ]
  },
  {
   "cell_type": "code",
   "execution_count": 136,
   "id": "b607494c",
   "metadata": {},
   "outputs": [],
   "source": [
    "rf = RandomForestClassifier(bootstrap=True, class_weight=None, criterion='gini', min_samples_leaf=1, max_depth=10,\n",
    "                           n_estimators=100, random_state=123)"
   ]
  },
  {
   "cell_type": "code",
   "execution_count": 137,
   "id": "77fdd9f9",
   "metadata": {},
   "outputs": [
    {
     "data": {
      "text/plain": [
       "RandomForestClassifier(max_depth=10, random_state=123)"
      ]
     },
     "execution_count": 137,
     "metadata": {},
     "output_type": "execute_result"
    }
   ],
   "source": [
    "rf.fit(x_train, y_train)"
   ]
  },
  {
   "cell_type": "code",
   "execution_count": 138,
   "id": "5a18847e",
   "metadata": {},
   "outputs": [
    {
     "name": "stdout",
     "output_type": "stream",
     "text": [
      "[0.10002143 0.06879504 0.05292745 0.3838233  0.02319394 0.32803056\n",
      " 0.01522288 0.02798539]\n"
     ]
    }
   ],
   "source": [
    "print(rf.feature_importances_)"
   ]
  },
  {
   "cell_type": "code",
   "execution_count": 139,
   "id": "cd656450",
   "metadata": {},
   "outputs": [],
   "source": [
    "y_pred = rf.predict(x_train)"
   ]
  },
  {
   "cell_type": "code",
   "execution_count": 140,
   "id": "cbef9376",
   "metadata": {},
   "outputs": [],
   "source": [
    "y_pred_proba = rf.predict_proba(x_train)"
   ]
  },
  {
   "cell_type": "code",
   "execution_count": 141,
   "id": "6d5cf555",
   "metadata": {},
   "outputs": [
    {
     "data": {
      "text/plain": [
       "0.9437751004016064"
      ]
     },
     "execution_count": 141,
     "metadata": {},
     "output_type": "execute_result"
    }
   ],
   "source": [
    "rf.score(x_train, y_train)"
   ]
  },
  {
   "cell_type": "code",
   "execution_count": 142,
   "id": "15779a0c",
   "metadata": {},
   "outputs": [
    {
     "name": "stdout",
     "output_type": "stream",
     "text": [
      "[[301   6]\n",
      " [ 22 169]]\n"
     ]
    }
   ],
   "source": [
    "print(confusion_matrix(y_train, y_pred))"
   ]
  },
  {
   "cell_type": "code",
   "execution_count": 143,
   "id": "cc59e70c",
   "metadata": {},
   "outputs": [
    {
     "name": "stdout",
     "output_type": "stream",
     "text": [
      "              precision    recall  f1-score   support\n",
      "\n",
      "           0       0.93      0.98      0.96       307\n",
      "           1       0.97      0.88      0.92       191\n",
      "\n",
      "    accuracy                           0.94       498\n",
      "   macro avg       0.95      0.93      0.94       498\n",
      "weighted avg       0.94      0.94      0.94       498\n",
      "\n"
     ]
    }
   ],
   "source": [
    "print(classification_report(y_train, y_pred))"
   ]
  },
  {
   "cell_type": "code",
   "execution_count": 144,
   "id": "9cfcd1e9",
   "metadata": {},
   "outputs": [
    {
     "data": {
      "text/plain": [
       "0.7850467289719626"
      ]
     },
     "execution_count": 144,
     "metadata": {},
     "output_type": "execute_result"
    }
   ],
   "source": [
    "rf.score(x_validate, y_validate)"
   ]
  },
  {
   "cell_type": "code",
   "execution_count": null,
   "id": "3e9ae10b",
   "metadata": {},
   "outputs": [],
   "source": []
  }
 ],
 "metadata": {
  "kernelspec": {
   "display_name": "Python 3.9.7 64-bit ('base': conda)",
   "language": "python",
   "name": "python397jvsc74a57bd038cca0c38332a56087b24af0bc80247f4fced29cb4f7f437d91dc159adec9c4e"
  },
  "language_info": {
   "codemirror_mode": {
    "name": "ipython",
    "version": 3
   },
   "file_extension": ".py",
   "mimetype": "text/x-python",
   "name": "python",
   "nbconvert_exporter": "python",
   "pygments_lexer": "ipython3",
   "version": "3.9.7"
  }
 },
 "nbformat": 4,
 "nbformat_minor": 5
}
