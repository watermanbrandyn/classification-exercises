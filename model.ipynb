{
 "cells": [
  {
   "cell_type": "code",
   "execution_count": 1,
   "id": "f0a10e26",
   "metadata": {},
   "outputs": [],
   "source": [
    "import numpy as np\n",
    "import pandas as pd\n",
    "import matplotlib.pyplot as plt\n",
    "import seaborn as sns\n",
    "import scipy.stats as stats\n",
    "from pydataset import data\n",
    "from datetime import date\n",
    "import sklearn\n",
    "from sklearn.model_selection import train_test_split\n",
    "from sklearn.impute import SimpleImputer\n",
    "import warnings\n",
    "warnings.filterwarnings('ignore')\n",
    "from env import get_db_url, user, password, host\n",
    "import acquire\n",
    "import prepare\n",
    "from sklearn.tree import export_graphviz\n",
    "from sklearn.metrics import confusion_matrix, classification_report, accuracy_score, precision_score, recall_score"
   ]
  },
  {
   "cell_type": "code",
   "execution_count": 2,
   "id": "b6b3cebf",
   "metadata": {},
   "outputs": [],
   "source": [
    "# Using titanic data:\n",
    "# 1. What is your baseline prediction? What is your baseline accuracy? "
   ]
  },
  {
   "cell_type": "code",
   "execution_count": 3,
   "id": "34704c00",
   "metadata": {},
   "outputs": [
    {
     "name": "stdout",
     "output_type": "stream",
     "text": [
      "Using cached csv\n"
     ]
    }
   ],
   "source": [
    "titanic = acquire.get_titanic_data()"
   ]
  },
  {
   "cell_type": "code",
   "execution_count": 4,
   "id": "07931d35",
   "metadata": {},
   "outputs": [],
   "source": [
    "titanic = prepare.prep_titanic(titanic)"
   ]
  },
  {
   "cell_type": "code",
   "execution_count": 5,
   "id": "bb57c0b6",
   "metadata": {},
   "outputs": [
    {
     "data": {
      "text/html": [
       "<div>\n",
       "<style scoped>\n",
       "    .dataframe tbody tr th:only-of-type {\n",
       "        vertical-align: middle;\n",
       "    }\n",
       "\n",
       "    .dataframe tbody tr th {\n",
       "        vertical-align: top;\n",
       "    }\n",
       "\n",
       "    .dataframe thead th {\n",
       "        text-align: right;\n",
       "    }\n",
       "</style>\n",
       "<table border=\"1\" class=\"dataframe\">\n",
       "  <thead>\n",
       "    <tr style=\"text-align: right;\">\n",
       "      <th></th>\n",
       "      <th>survived</th>\n",
       "      <th>pclass</th>\n",
       "      <th>sibsp</th>\n",
       "      <th>parch</th>\n",
       "      <th>fare</th>\n",
       "      <th>alone</th>\n",
       "      <th>sex_male</th>\n",
       "      <th>embark_town_Queenstown</th>\n",
       "      <th>embark_town_Southampton</th>\n",
       "    </tr>\n",
       "  </thead>\n",
       "  <tbody>\n",
       "    <tr>\n",
       "      <th>0</th>\n",
       "      <td>0</td>\n",
       "      <td>3</td>\n",
       "      <td>1</td>\n",
       "      <td>0</td>\n",
       "      <td>7.2500</td>\n",
       "      <td>0</td>\n",
       "      <td>1</td>\n",
       "      <td>0</td>\n",
       "      <td>1</td>\n",
       "    </tr>\n",
       "    <tr>\n",
       "      <th>1</th>\n",
       "      <td>1</td>\n",
       "      <td>1</td>\n",
       "      <td>1</td>\n",
       "      <td>0</td>\n",
       "      <td>71.2833</td>\n",
       "      <td>0</td>\n",
       "      <td>0</td>\n",
       "      <td>0</td>\n",
       "      <td>0</td>\n",
       "    </tr>\n",
       "    <tr>\n",
       "      <th>2</th>\n",
       "      <td>1</td>\n",
       "      <td>3</td>\n",
       "      <td>0</td>\n",
       "      <td>0</td>\n",
       "      <td>7.9250</td>\n",
       "      <td>1</td>\n",
       "      <td>0</td>\n",
       "      <td>0</td>\n",
       "      <td>1</td>\n",
       "    </tr>\n",
       "    <tr>\n",
       "      <th>3</th>\n",
       "      <td>1</td>\n",
       "      <td>1</td>\n",
       "      <td>1</td>\n",
       "      <td>0</td>\n",
       "      <td>53.1000</td>\n",
       "      <td>0</td>\n",
       "      <td>0</td>\n",
       "      <td>0</td>\n",
       "      <td>1</td>\n",
       "    </tr>\n",
       "    <tr>\n",
       "      <th>4</th>\n",
       "      <td>0</td>\n",
       "      <td>3</td>\n",
       "      <td>0</td>\n",
       "      <td>0</td>\n",
       "      <td>8.0500</td>\n",
       "      <td>1</td>\n",
       "      <td>1</td>\n",
       "      <td>0</td>\n",
       "      <td>1</td>\n",
       "    </tr>\n",
       "  </tbody>\n",
       "</table>\n",
       "</div>"
      ],
      "text/plain": [
       "   survived  pclass  sibsp  parch     fare  alone  sex_male  \\\n",
       "0         0       3      1      0   7.2500      0         1   \n",
       "1         1       1      1      0  71.2833      0         0   \n",
       "2         1       3      0      0   7.9250      1         0   \n",
       "3         1       1      1      0  53.1000      0         0   \n",
       "4         0       3      0      0   8.0500      1         1   \n",
       "\n",
       "   embark_town_Queenstown  embark_town_Southampton  \n",
       "0                       0                        1  \n",
       "1                       0                        0  \n",
       "2                       0                        1  \n",
       "3                       0                        1  \n",
       "4                       0                        1  "
      ]
     },
     "execution_count": 5,
     "metadata": {},
     "output_type": "execute_result"
    }
   ],
   "source": [
    "titanic.head()"
   ]
  },
  {
   "cell_type": "code",
   "execution_count": 6,
   "id": "de36a968",
   "metadata": {},
   "outputs": [
    {
     "data": {
      "text/plain": [
       "0    549\n",
       "1    342\n",
       "Name: survived, dtype: int64"
      ]
     },
     "execution_count": 6,
     "metadata": {},
     "output_type": "execute_result"
    }
   ],
   "source": [
    "titanic.survived.value_counts()"
   ]
  },
  {
   "cell_type": "code",
   "execution_count": 7,
   "id": "adfccb6b",
   "metadata": {},
   "outputs": [],
   "source": [
    "# Our target value is 'survived' and the baseline is 0 (did not survive)"
   ]
  },
  {
   "cell_type": "code",
   "execution_count": 8,
   "id": "31f64fa6",
   "metadata": {},
   "outputs": [],
   "source": [
    "# added baseline too early\n",
    "# titanic['baseline'] = 0"
   ]
  },
  {
   "cell_type": "code",
   "execution_count": 9,
   "id": "e1452283",
   "metadata": {},
   "outputs": [],
   "source": [
    "# 2. Fit the decision tree classifier to training sample and transform\n",
    "# Create train, validate, test split of data"
   ]
  },
  {
   "cell_type": "code",
   "execution_count": 10,
   "id": "c3a7d63f",
   "metadata": {},
   "outputs": [],
   "source": [
    "def train_validate_test_split(df, target, seed=123):\n",
    "    '''\n",
    "    - Takes in df, name of target variable, and integer for setting a seed\n",
    "    - Splits the data into train, validate, and test\n",
    "    - Test is 20% of original dataset, validate is .3 * .8 = 24%, train is .7 * .8 = 56% of original dataset\n",
    "    - Function returns train, validate, test df\n",
    "    '''\n",
    "    train_validate, test = train_test_split(df, test_size=.2, random_state = seed, stratify=df[target])\n",
    "    train, validate = train_test_split(train_validate, test_size=.3, random_state=seed, stratify=train_validate[target])\n",
    "    return train, validate, test"
   ]
  },
  {
   "cell_type": "code",
   "execution_count": 11,
   "id": "dff21789",
   "metadata": {},
   "outputs": [],
   "source": [
    "train, val, test = train_validate_test_split(titanic, 'survived')"
   ]
  },
  {
   "cell_type": "code",
   "execution_count": 12,
   "id": "870633e5",
   "metadata": {},
   "outputs": [
    {
     "data": {
      "text/plain": [
       "((498, 9), (214, 9), (179, 9))"
      ]
     },
     "execution_count": 12,
     "metadata": {},
     "output_type": "execute_result"
    }
   ],
   "source": [
    "train.shape, val.shape, test.shape"
   ]
  },
  {
   "cell_type": "code",
   "execution_count": 13,
   "id": "bad4713c",
   "metadata": {},
   "outputs": [],
   "source": [
    "train['baseline'] = 0"
   ]
  },
  {
   "cell_type": "code",
   "execution_count": 14,
   "id": "ca7052de",
   "metadata": {},
   "outputs": [
    {
     "data": {
      "text/plain": [
       "0.6164658634538153"
      ]
     },
     "execution_count": 14,
     "metadata": {},
     "output_type": "execute_result"
    }
   ],
   "source": [
    "sklearn.metrics.accuracy_score(train.baseline, train.survived)"
   ]
  },
  {
   "cell_type": "code",
   "execution_count": 15,
   "id": "0c3def29",
   "metadata": {},
   "outputs": [],
   "source": [
    "# Need to make sure you do not carry the baseline forward, will change features and modeling accuracy\n",
    "train.drop(columns='baseline', inplace=True)"
   ]
  },
  {
   "cell_type": "code",
   "execution_count": 16,
   "id": "d4d5d4a9",
   "metadata": {},
   "outputs": [],
   "source": [
    "# [dataset.drop(columns=drops, inplace=True) for dataset in [train, validate, test]]"
   ]
  },
  {
   "cell_type": "code",
   "execution_count": 17,
   "id": "342acd1e",
   "metadata": {},
   "outputs": [],
   "source": [
    "x_train = train.drop(columns='survived')\n",
    "y_train = train.survived\n",
    "\n",
    "x_validate = val.drop(columns=['survived'])\n",
    "y_validate = val.survived\n",
    "\n",
    "x_test = test.drop(columns='survived')\n",
    "y_test = test.survived"
   ]
  },
  {
   "cell_type": "code",
   "execution_count": 18,
   "id": "8b18ff8d",
   "metadata": {},
   "outputs": [],
   "source": [
    "from sklearn.tree import DecisionTreeClassifier, plot_tree"
   ]
  },
  {
   "cell_type": "code",
   "execution_count": 19,
   "id": "5acc3a2a",
   "metadata": {},
   "outputs": [],
   "source": [
    "clf = DecisionTreeClassifier(max_depth=3, random_state=123)"
   ]
  },
  {
   "cell_type": "code",
   "execution_count": 20,
   "id": "5bd9ed27",
   "metadata": {},
   "outputs": [],
   "source": [
    "clf = clf.fit(x_train, y_train)"
   ]
  },
  {
   "cell_type": "code",
   "execution_count": 21,
   "id": "932d1607",
   "metadata": {},
   "outputs": [
    {
     "data": {
      "text/html": [
       "<div>\n",
       "<style scoped>\n",
       "    .dataframe tbody tr th:only-of-type {\n",
       "        vertical-align: middle;\n",
       "    }\n",
       "\n",
       "    .dataframe tbody tr th {\n",
       "        vertical-align: top;\n",
       "    }\n",
       "\n",
       "    .dataframe thead th {\n",
       "        text-align: right;\n",
       "    }\n",
       "</style>\n",
       "<table border=\"1\" class=\"dataframe\">\n",
       "  <thead>\n",
       "    <tr style=\"text-align: right;\">\n",
       "      <th></th>\n",
       "      <th>survived</th>\n",
       "      <th>pclass</th>\n",
       "      <th>sibsp</th>\n",
       "      <th>parch</th>\n",
       "      <th>fare</th>\n",
       "      <th>alone</th>\n",
       "      <th>sex_male</th>\n",
       "      <th>embark_town_Queenstown</th>\n",
       "      <th>embark_town_Southampton</th>\n",
       "    </tr>\n",
       "  </thead>\n",
       "  <tbody>\n",
       "    <tr>\n",
       "      <th>583</th>\n",
       "      <td>0</td>\n",
       "      <td>1</td>\n",
       "      <td>0</td>\n",
       "      <td>0</td>\n",
       "      <td>40.1250</td>\n",
       "      <td>1</td>\n",
       "      <td>1</td>\n",
       "      <td>0</td>\n",
       "      <td>0</td>\n",
       "    </tr>\n",
       "    <tr>\n",
       "      <th>165</th>\n",
       "      <td>1</td>\n",
       "      <td>3</td>\n",
       "      <td>0</td>\n",
       "      <td>2</td>\n",
       "      <td>20.5250</td>\n",
       "      <td>0</td>\n",
       "      <td>1</td>\n",
       "      <td>0</td>\n",
       "      <td>1</td>\n",
       "    </tr>\n",
       "    <tr>\n",
       "      <th>50</th>\n",
       "      <td>0</td>\n",
       "      <td>3</td>\n",
       "      <td>4</td>\n",
       "      <td>1</td>\n",
       "      <td>39.6875</td>\n",
       "      <td>0</td>\n",
       "      <td>1</td>\n",
       "      <td>0</td>\n",
       "      <td>1</td>\n",
       "    </tr>\n",
       "    <tr>\n",
       "      <th>259</th>\n",
       "      <td>1</td>\n",
       "      <td>2</td>\n",
       "      <td>0</td>\n",
       "      <td>1</td>\n",
       "      <td>26.0000</td>\n",
       "      <td>0</td>\n",
       "      <td>0</td>\n",
       "      <td>0</td>\n",
       "      <td>1</td>\n",
       "    </tr>\n",
       "    <tr>\n",
       "      <th>306</th>\n",
       "      <td>1</td>\n",
       "      <td>1</td>\n",
       "      <td>0</td>\n",
       "      <td>0</td>\n",
       "      <td>110.8833</td>\n",
       "      <td>1</td>\n",
       "      <td>0</td>\n",
       "      <td>0</td>\n",
       "      <td>0</td>\n",
       "    </tr>\n",
       "  </tbody>\n",
       "</table>\n",
       "</div>"
      ],
      "text/plain": [
       "     survived  pclass  sibsp  parch      fare  alone  sex_male  \\\n",
       "583         0       1      0      0   40.1250      1         1   \n",
       "165         1       3      0      2   20.5250      0         1   \n",
       "50          0       3      4      1   39.6875      0         1   \n",
       "259         1       2      0      1   26.0000      0         0   \n",
       "306         1       1      0      0  110.8833      1         0   \n",
       "\n",
       "     embark_town_Queenstown  embark_town_Southampton  \n",
       "583                       0                        0  \n",
       "165                       0                        1  \n",
       "50                        0                        1  \n",
       "259                       0                        1  \n",
       "306                       0                        0  "
      ]
     },
     "execution_count": 21,
     "metadata": {},
     "output_type": "execute_result"
    }
   ],
   "source": [
    "train.head()"
   ]
  },
  {
   "cell_type": "code",
   "execution_count": 22,
   "id": "ecbab3b8",
   "metadata": {},
   "outputs": [
    {
     "data": {
      "text/plain": [
       "[Text(362.7, 332.955, 'sex_male <= 0.5\\ngini = 0.473\\nsamples = 498\\nvalue = [307, 191]\\nclass = not survived'),\n",
       " Text(181.35, 237.825, 'pclass <= 2.5\\ngini = 0.365\\nsamples = 175\\nvalue = [42, 133]\\nclass = survived'),\n",
       " Text(90.675, 142.695, 'fare <= 28.856\\ngini = 0.081\\nsamples = 94\\nvalue = [4, 90]\\nclass = survived'),\n",
       " Text(45.3375, 47.565, 'gini = 0.133\\nsamples = 42\\nvalue = [3, 39]\\nclass = survived'),\n",
       " Text(136.0125, 47.565, 'gini = 0.038\\nsamples = 52\\nvalue = [1, 51]\\nclass = survived'),\n",
       " Text(272.025, 142.695, 'fare <= 23.912\\ngini = 0.498\\nsamples = 81\\nvalue = [38, 43]\\nclass = survived'),\n",
       " Text(226.6875, 47.565, 'gini = 0.476\\nsamples = 69\\nvalue = [27, 42]\\nclass = survived'),\n",
       " Text(317.3625, 47.565, 'gini = 0.153\\nsamples = 12\\nvalue = [11, 1]\\nclass = not survived'),\n",
       " Text(544.05, 237.825, 'fare <= 18.275\\ngini = 0.295\\nsamples = 323\\nvalue = [265, 58]\\nclass = not survived'),\n",
       " Text(453.375, 142.695, 'parch <= 0.5\\ngini = 0.184\\nsamples = 205\\nvalue = [184, 21]\\nclass = not survived'),\n",
       " Text(408.03749999999997, 47.565, 'gini = 0.173\\nsamples = 199\\nvalue = [180, 19]\\nclass = not survived'),\n",
       " Text(498.7125, 47.565, 'gini = 0.444\\nsamples = 6\\nvalue = [4, 2]\\nclass = not survived'),\n",
       " Text(634.725, 142.695, 'fare <= 19.637\\ngini = 0.43\\nsamples = 118\\nvalue = [81, 37]\\nclass = not survived'),\n",
       " Text(589.3874999999999, 47.565, 'gini = 0.0\\nsamples = 2\\nvalue = [0, 2]\\nclass = survived'),\n",
       " Text(680.0625, 47.565, 'gini = 0.421\\nsamples = 116\\nvalue = [81, 35]\\nclass = not survived')]"
      ]
     },
     "execution_count": 22,
     "metadata": {},
     "output_type": "execute_result"
    },
    {
     "data": {
      "image/png": "[encoded data removed]",
      "text/plain": [
       "<Figure size 936x504 with 1 Axes>"
      ]
     },
     "metadata": {
      "needs_background": "light"
     },
     "output_type": "display_data"
    }
   ],
   "source": [
    "plt.figure(figsize=(13,7))\n",
    "plot_tree(clf, feature_names=x_train.columns, class_names=['not survived', 'survived'], rounded = True)"
   ]
  },
  {
   "cell_type": "code",
   "execution_count": 23,
   "id": "b701ee40",
   "metadata": {},
   "outputs": [],
   "source": [
    "# 3. Evaluate your in-sample results using the model score, confusion matrix, and classification report"
   ]
  },
  {
   "cell_type": "code",
   "execution_count": 24,
   "id": "3ea91d57",
   "metadata": {},
   "outputs": [
    {
     "name": "stdout",
     "output_type": "stream",
     "text": [
      "\n",
      "The accuracy for our model is  0.8233\n",
      "The True Positive Rate is 0.702, The False Positive Rate is 0.101,\n",
      "The True Negative Rate is 0.899, and the False Negative Rate is 0.298\n",
      "\n"
     ]
    },
    {
     "data": {
      "text/html": [
       "<div>\n",
       "<style scoped>\n",
       "    .dataframe tbody tr th:only-of-type {\n",
       "        vertical-align: middle;\n",
       "    }\n",
       "\n",
       "    .dataframe tbody tr th {\n",
       "        vertical-align: top;\n",
       "    }\n",
       "\n",
       "    .dataframe thead th {\n",
       "        text-align: right;\n",
       "    }\n",
       "</style>\n",
       "<table border=\"1\" class=\"dataframe\">\n",
       "  <thead>\n",
       "    <tr style=\"text-align: right;\">\n",
       "      <th></th>\n",
       "      <th>precision</th>\n",
       "      <th>recall</th>\n",
       "      <th>f1-score</th>\n",
       "      <th>support</th>\n",
       "    </tr>\n",
       "  </thead>\n",
       "  <tbody>\n",
       "    <tr>\n",
       "      <th>0</th>\n",
       "      <td>0.828829</td>\n",
       "      <td>0.899023</td>\n",
       "      <td>0.862500</td>\n",
       "      <td>307.000000</td>\n",
       "    </tr>\n",
       "    <tr>\n",
       "      <th>1</th>\n",
       "      <td>0.812121</td>\n",
       "      <td>0.701571</td>\n",
       "      <td>0.752809</td>\n",
       "      <td>191.000000</td>\n",
       "    </tr>\n",
       "    <tr>\n",
       "      <th>accuracy</th>\n",
       "      <td>0.823293</td>\n",
       "      <td>0.823293</td>\n",
       "      <td>0.823293</td>\n",
       "      <td>0.823293</td>\n",
       "    </tr>\n",
       "    <tr>\n",
       "      <th>macro avg</th>\n",
       "      <td>0.820475</td>\n",
       "      <td>0.800297</td>\n",
       "      <td>0.807654</td>\n",
       "      <td>498.000000</td>\n",
       "    </tr>\n",
       "    <tr>\n",
       "      <th>weighted avg</th>\n",
       "      <td>0.822421</td>\n",
       "      <td>0.823293</td>\n",
       "      <td>0.820430</td>\n",
       "      <td>498.000000</td>\n",
       "    </tr>\n",
       "  </tbody>\n",
       "</table>\n",
       "</div>"
      ],
      "text/plain": [
       "              precision    recall  f1-score     support\n",
       "0              0.828829  0.899023  0.862500  307.000000\n",
       "1              0.812121  0.701571  0.752809  191.000000\n",
       "accuracy       0.823293  0.823293  0.823293    0.823293\n",
       "macro avg      0.820475  0.800297  0.807654  498.000000\n",
       "weighted avg   0.822421  0.823293  0.820430  498.000000"
      ]
     },
     "execution_count": 24,
     "metadata": {},
     "output_type": "execute_result"
    }
   ],
   "source": [
    "accuracy = clf.score(x_train, y_train)\n",
    "y_pred = clf.predict(x_train)\n",
    "conf = confusion_matrix(y_train, y_pred)\n",
    "class_report = pd.DataFrame(classification_report(y_train, y_pred, output_dict=True)).T\n",
    "conf = confusion_matrix(y_train, y_pred)\n",
    "tpr = conf[1][1] / conf[1].sum()\n",
    "fpr = conf[0][1] / conf[0].sum()\n",
    "tnr = conf[0][0] / conf[0].sum()\n",
    "fnr = conf[1][0] / conf[1].sum()\n",
    "print(f'''\n",
    "The accuracy for our model is {accuracy: .4}\n",
    "The True Positive Rate is {tpr:.3}, The False Positive Rate is {fpr:.3},\n",
    "The True Negative Rate is {tnr:.3}, and the False Negative Rate is {fnr:.3}\n",
    "''')\n",
    "class_report"
   ]
  },
  {
   "cell_type": "code",
   "execution_count": 25,
   "id": "cd7ce51f",
   "metadata": {},
   "outputs": [],
   "source": [
    "y_pred = clf.predict(x_train)"
   ]
  },
  {
   "cell_type": "code",
   "execution_count": 26,
   "id": "dc211772",
   "metadata": {},
   "outputs": [],
   "source": [
    "y_pred_proba = clf.predict_proba(x_train)"
   ]
  },
  {
   "cell_type": "code",
   "execution_count": 27,
   "id": "72bf9163",
   "metadata": {},
   "outputs": [
    {
     "data": {
      "text/plain": [
       "0.8232931726907631"
      ]
     },
     "execution_count": 27,
     "metadata": {},
     "output_type": "execute_result"
    }
   ],
   "source": [
    "clf.score(x_train, y_train)"
   ]
  },
  {
   "cell_type": "code",
   "execution_count": 28,
   "id": "42f0a5e5",
   "metadata": {},
   "outputs": [
    {
     "data": {
      "text/plain": [
       "array([[276,  31],\n",
       "       [ 57, 134]])"
      ]
     },
     "execution_count": 28,
     "metadata": {},
     "output_type": "execute_result"
    }
   ],
   "source": [
    "from sklearn.metrics import confusion_matrix\n",
    "confusion_matrix(y_train, y_pred)"
   ]
  },
  {
   "cell_type": "code",
   "execution_count": 29,
   "id": "4bd5e643",
   "metadata": {},
   "outputs": [
    {
     "data": {
      "text/plain": [
       "0    307\n",
       "1    191\n",
       "Name: survived, dtype: int64"
      ]
     },
     "execution_count": 29,
     "metadata": {},
     "output_type": "execute_result"
    }
   ],
   "source": [
    "y_train.value_counts()"
   ]
  },
  {
   "cell_type": "code",
   "execution_count": 30,
   "id": "c91f919f",
   "metadata": {},
   "outputs": [],
   "source": [
    "labels = sorted(y_train.unique())"
   ]
  },
  {
   "cell_type": "code",
   "execution_count": 31,
   "id": "b0e8c402",
   "metadata": {},
   "outputs": [
    {
     "data": {
      "text/html": [
       "<div>\n",
       "<style scoped>\n",
       "    .dataframe tbody tr th:only-of-type {\n",
       "        vertical-align: middle;\n",
       "    }\n",
       "\n",
       "    .dataframe tbody tr th {\n",
       "        vertical-align: top;\n",
       "    }\n",
       "\n",
       "    .dataframe thead th {\n",
       "        text-align: right;\n",
       "    }\n",
       "</style>\n",
       "<table border=\"1\" class=\"dataframe\">\n",
       "  <thead>\n",
       "    <tr style=\"text-align: right;\">\n",
       "      <th></th>\n",
       "      <th>0</th>\n",
       "      <th>1</th>\n",
       "    </tr>\n",
       "  </thead>\n",
       "  <tbody>\n",
       "    <tr>\n",
       "      <th>0</th>\n",
       "      <td>276</td>\n",
       "      <td>31</td>\n",
       "    </tr>\n",
       "    <tr>\n",
       "      <th>1</th>\n",
       "      <td>57</td>\n",
       "      <td>134</td>\n",
       "    </tr>\n",
       "  </tbody>\n",
       "</table>\n",
       "</div>"
      ],
      "text/plain": [
       "     0    1\n",
       "0  276   31\n",
       "1   57  134"
      ]
     },
     "execution_count": 31,
     "metadata": {},
     "output_type": "execute_result"
    }
   ],
   "source": [
    "pd.DataFrame(confusion_matrix(y_train, y_pred), index=labels, columns=labels)"
   ]
  },
  {
   "cell_type": "code",
   "execution_count": 32,
   "id": "e6db2ac0",
   "metadata": {},
   "outputs": [
    {
     "name": "stdout",
     "output_type": "stream",
     "text": [
      "              precision    recall  f1-score   support\n",
      "\n",
      "           0       0.83      0.90      0.86       307\n",
      "           1       0.81      0.70      0.75       191\n",
      "\n",
      "    accuracy                           0.82       498\n",
      "   macro avg       0.82      0.80      0.81       498\n",
      "weighted avg       0.82      0.82      0.82       498\n",
      "\n"
     ]
    }
   ],
   "source": [
    "from sklearn.metrics import classification_report\n",
    "print(classification_report(y_train, y_pred))"
   ]
  },
  {
   "cell_type": "code",
   "execution_count": 33,
   "id": "b8602501",
   "metadata": {},
   "outputs": [
    {
     "data": {
      "text/plain": [
       "0.7850467289719626"
      ]
     },
     "execution_count": 33,
     "metadata": {},
     "output_type": "execute_result"
    }
   ],
   "source": [
    "# 4. Conpute accuracy, true positive rate, false positive rate, true negative reate, false negative rate, precision\n",
    "# recall, f1-score, support\n",
    "clf.score(x_validate, y_validate)"
   ]
  },
  {
   "cell_type": "code",
   "execution_count": 34,
   "id": "b98c9479",
   "metadata": {},
   "outputs": [],
   "source": [
    "y_pred = clf.predict(x_validate)"
   ]
  },
  {
   "cell_type": "code",
   "execution_count": 35,
   "id": "4d7a8e8f",
   "metadata": {},
   "outputs": [
    {
     "name": "stdout",
     "output_type": "stream",
     "text": [
      "              precision    recall  f1-score   support\n",
      "\n",
      "           0       0.80      0.87      0.83       132\n",
      "           1       0.76      0.65      0.70        82\n",
      "\n",
      "    accuracy                           0.79       214\n",
      "   macro avg       0.78      0.76      0.77       214\n",
      "weighted avg       0.78      0.79      0.78       214\n",
      "\n"
     ]
    }
   ],
   "source": [
    "print(classification_report(y_validate, y_pred))"
   ]
  },
  {
   "cell_type": "code",
   "execution_count": 36,
   "id": "cd5ab4c6",
   "metadata": {},
   "outputs": [],
   "source": [
    "# 5. Repeat with a diff. max_depth"
   ]
  },
  {
   "cell_type": "code",
   "execution_count": 37,
   "id": "c81966aa",
   "metadata": {},
   "outputs": [],
   "source": [
    "clf = DecisionTreeClassifier(max_depth=4, random_state=123)"
   ]
  },
  {
   "cell_type": "code",
   "execution_count": 38,
   "id": "f396b591",
   "metadata": {},
   "outputs": [],
   "source": [
    "clf = clf.fit(x_train, y_train)"
   ]
  },
  {
   "cell_type": "code",
   "execution_count": 39,
   "id": "800571e9",
   "metadata": {},
   "outputs": [
    {
     "data": {
      "text/plain": [
       "[Text(607.8214285714286, 978.48, 'sex_male <= 0.5\\ngini = 0.473\\nsamples = 498\\nvalue = [307, 191]\\nclass = not survived'),\n",
       " Text(318.85714285714283, 761.0400000000001, 'pclass <= 2.5\\ngini = 0.365\\nsamples = 175\\nvalue = [42, 133]\\nclass = survived'),\n",
       " Text(159.42857142857142, 543.6, 'fare <= 28.856\\ngini = 0.081\\nsamples = 94\\nvalue = [4, 90]\\nclass = survived'),\n",
       " Text(79.71428571428571, 326.1600000000001, 'fare <= 28.231\\ngini = 0.133\\nsamples = 42\\nvalue = [3, 39]\\nclass = survived'),\n",
       " Text(39.857142857142854, 108.72000000000003, 'gini = 0.093\\nsamples = 41\\nvalue = [2, 39]\\nclass = survived'),\n",
       " Text(119.57142857142856, 108.72000000000003, 'gini = 0.0\\nsamples = 1\\nvalue = [1, 0]\\nclass = not survived'),\n",
       " Text(239.1428571428571, 326.1600000000001, 'parch <= 1.5\\ngini = 0.038\\nsamples = 52\\nvalue = [1, 51]\\nclass = survived'),\n",
       " Text(199.28571428571428, 108.72000000000003, 'gini = 0.0\\nsamples = 48\\nvalue = [0, 48]\\nclass = survived'),\n",
       " Text(279.0, 108.72000000000003, 'gini = 0.375\\nsamples = 4\\nvalue = [1, 3]\\nclass = survived'),\n",
       " Text(478.2857142857142, 543.6, 'fare <= 23.912\\ngini = 0.498\\nsamples = 81\\nvalue = [38, 43]\\nclass = survived'),\n",
       " Text(398.57142857142856, 326.1600000000001, 'embark_town_Queenstown <= 0.5\\ngini = 0.476\\nsamples = 69\\nvalue = [27, 42]\\nclass = survived'),\n",
       " Text(358.71428571428567, 108.72000000000003, 'gini = 0.498\\nsamples = 49\\nvalue = [23, 26]\\nclass = survived'),\n",
       " Text(438.4285714285714, 108.72000000000003, 'gini = 0.32\\nsamples = 20\\nvalue = [4, 16]\\nclass = survived'),\n",
       " Text(558.0, 326.1600000000001, 'parch <= 4.0\\ngini = 0.153\\nsamples = 12\\nvalue = [11, 1]\\nclass = not survived'),\n",
       " Text(518.1428571428571, 108.72000000000003, 'gini = 0.0\\nsamples = 10\\nvalue = [10, 0]\\nclass = not survived'),\n",
       " Text(597.8571428571428, 108.72000000000003, 'gini = 0.5\\nsamples = 2\\nvalue = [1, 1]\\nclass = not survived'),\n",
       " Text(896.7857142857142, 761.0400000000001, 'fare <= 18.275\\ngini = 0.295\\nsamples = 323\\nvalue = [265, 58]\\nclass = not survived'),\n",
       " Text(797.1428571428571, 543.6, 'parch <= 0.5\\ngini = 0.184\\nsamples = 205\\nvalue = [184, 21]\\nclass = not survived'),\n",
       " Text(717.4285714285713, 326.1600000000001, 'fare <= 13.25\\ngini = 0.173\\nsamples = 199\\nvalue = [180, 19]\\nclass = not survived'),\n",
       " Text(677.5714285714286, 108.72000000000003, 'gini = 0.184\\nsamples = 185\\nvalue = [166, 19]\\nclass = not survived'),\n",
       " Text(757.2857142857142, 108.72000000000003, 'gini = 0.0\\nsamples = 14\\nvalue = [14, 0]\\nclass = not survived'),\n",
       " Text(876.8571428571428, 326.1600000000001, 'fare <= 15.0\\ngini = 0.444\\nsamples = 6\\nvalue = [4, 2]\\nclass = not survived'),\n",
       " Text(836.9999999999999, 108.72000000000003, 'gini = 0.5\\nsamples = 4\\nvalue = [2, 2]\\nclass = not survived'),\n",
       " Text(916.7142857142857, 108.72000000000003, 'gini = 0.0\\nsamples = 2\\nvalue = [2, 0]\\nclass = not survived'),\n",
       " Text(996.4285714285713, 543.6, 'fare <= 19.637\\ngini = 0.43\\nsamples = 118\\nvalue = [81, 37]\\nclass = not survived'),\n",
       " Text(956.5714285714284, 326.1600000000001, 'gini = 0.0\\nsamples = 2\\nvalue = [0, 2]\\nclass = survived'),\n",
       " Text(1036.2857142857142, 326.1600000000001, 'sibsp <= 2.5\\ngini = 0.421\\nsamples = 116\\nvalue = [81, 35]\\nclass = not survived'),\n",
       " Text(996.4285714285713, 108.72000000000003, 'gini = 0.444\\nsamples = 102\\nvalue = [68, 34]\\nclass = not survived'),\n",
       " Text(1076.142857142857, 108.72000000000003, 'gini = 0.133\\nsamples = 14\\nvalue = [13, 1]\\nclass = not survived')]"
      ]
     },
     "execution_count": 39,
     "metadata": {},
     "output_type": "execute_result"
    },
    {
     "data": {
      "image/png": "[encoded data removed]",
      "text/plain": [
       "<Figure size 1440x1440 with 1 Axes>"
      ]
     },
     "metadata": {
      "needs_background": "light"
     },
     "output_type": "display_data"
    }
   ],
   "source": [
    "plt.figure(figsize=(20,20))\n",
    "plot_tree(clf, feature_names=x_train.columns, class_names=['not survived', 'survived'], rounded = True)"
   ]
  },
  {
   "cell_type": "code",
   "execution_count": 40,
   "id": "3d7a365b",
   "metadata": {},
   "outputs": [],
   "source": [
    "y_pred = clf.predict(x_train)"
   ]
  },
  {
   "cell_type": "code",
   "execution_count": 41,
   "id": "5ab33749",
   "metadata": {},
   "outputs": [],
   "source": [
    "y_pred_proba = clf.predict_proba(x_train)"
   ]
  },
  {
   "cell_type": "code",
   "execution_count": 42,
   "id": "98242312",
   "metadata": {},
   "outputs": [
    {
     "data": {
      "text/plain": [
       "0.8253012048192772"
      ]
     },
     "execution_count": 42,
     "metadata": {},
     "output_type": "execute_result"
    }
   ],
   "source": [
    "clf.score(x_train, y_train)"
   ]
  },
  {
   "cell_type": "code",
   "execution_count": 43,
   "id": "045b247c",
   "metadata": {},
   "outputs": [
    {
     "data": {
      "text/plain": [
       "array([[277,  30],\n",
       "       [ 57, 134]])"
      ]
     },
     "execution_count": 43,
     "metadata": {},
     "output_type": "execute_result"
    }
   ],
   "source": [
    "confusion_matrix(y_train, y_pred)"
   ]
  },
  {
   "cell_type": "code",
   "execution_count": 44,
   "id": "ce32251e",
   "metadata": {},
   "outputs": [
    {
     "data": {
      "text/plain": [
       "0    307\n",
       "1    191\n",
       "Name: survived, dtype: int64"
      ]
     },
     "execution_count": 44,
     "metadata": {},
     "output_type": "execute_result"
    }
   ],
   "source": [
    "y_train.value_counts()"
   ]
  },
  {
   "cell_type": "code",
   "execution_count": 45,
   "id": "f43acff5",
   "metadata": {},
   "outputs": [
    {
     "data": {
      "text/html": [
       "<div>\n",
       "<style scoped>\n",
       "    .dataframe tbody tr th:only-of-type {\n",
       "        vertical-align: middle;\n",
       "    }\n",
       "\n",
       "    .dataframe tbody tr th {\n",
       "        vertical-align: top;\n",
       "    }\n",
       "\n",
       "    .dataframe thead th {\n",
       "        text-align: right;\n",
       "    }\n",
       "</style>\n",
       "<table border=\"1\" class=\"dataframe\">\n",
       "  <thead>\n",
       "    <tr style=\"text-align: right;\">\n",
       "      <th></th>\n",
       "      <th>0</th>\n",
       "      <th>1</th>\n",
       "    </tr>\n",
       "  </thead>\n",
       "  <tbody>\n",
       "    <tr>\n",
       "      <th>0</th>\n",
       "      <td>277</td>\n",
       "      <td>30</td>\n",
       "    </tr>\n",
       "    <tr>\n",
       "      <th>1</th>\n",
       "      <td>57</td>\n",
       "      <td>134</td>\n",
       "    </tr>\n",
       "  </tbody>\n",
       "</table>\n",
       "</div>"
      ],
      "text/plain": [
       "     0    1\n",
       "0  277   30\n",
       "1   57  134"
      ]
     },
     "execution_count": 45,
     "metadata": {},
     "output_type": "execute_result"
    }
   ],
   "source": [
    "pd.DataFrame(confusion_matrix(y_train, y_pred), index=labels, columns=labels)"
   ]
  },
  {
   "cell_type": "code",
   "execution_count": 46,
   "id": "207e4617",
   "metadata": {},
   "outputs": [
    {
     "name": "stdout",
     "output_type": "stream",
     "text": [
      "              precision    recall  f1-score   support\n",
      "\n",
      "           0       0.83      0.90      0.86       307\n",
      "           1       0.82      0.70      0.75       191\n",
      "\n",
      "    accuracy                           0.83       498\n",
      "   macro avg       0.82      0.80      0.81       498\n",
      "weighted avg       0.82      0.83      0.82       498\n",
      "\n"
     ]
    }
   ],
   "source": [
    "print(classification_report(y_train, y_pred))"
   ]
  },
  {
   "cell_type": "code",
   "execution_count": 47,
   "id": "b159b881",
   "metadata": {},
   "outputs": [
    {
     "data": {
      "text/plain": [
       "0.7850467289719626"
      ]
     },
     "execution_count": 47,
     "metadata": {},
     "output_type": "execute_result"
    }
   ],
   "source": [
    "clf.score(x_validate, y_validate)"
   ]
  },
  {
   "cell_type": "code",
   "execution_count": 48,
   "id": "23ce794e",
   "metadata": {},
   "outputs": [],
   "source": [
    "y_pred = clf.predict(x_validate)"
   ]
  },
  {
   "cell_type": "code",
   "execution_count": 49,
   "id": "a5e4a4b2",
   "metadata": {},
   "outputs": [
    {
     "name": "stdout",
     "output_type": "stream",
     "text": [
      "              precision    recall  f1-score   support\n",
      "\n",
      "           0       0.80      0.87      0.83       132\n",
      "           1       0.76      0.65      0.70        82\n",
      "\n",
      "    accuracy                           0.79       214\n",
      "   macro avg       0.78      0.76      0.77       214\n",
      "weighted avg       0.78      0.79      0.78       214\n",
      "\n"
     ]
    }
   ],
   "source": [
    "print(classification_report(y_validate, y_pred))"
   ]
  },
  {
   "cell_type": "code",
   "execution_count": 50,
   "id": "d557ac47",
   "metadata": {},
   "outputs": [],
   "source": [
    "# 6. The larger max_depth performs better on the in sample (train) data\n",
    "# 7. The larger max_depth performs better for the validate set as well. "
   ]
  },
  {
   "cell_type": "code",
   "execution_count": 51,
   "id": "04cb2e33",
   "metadata": {},
   "outputs": [],
   "source": [
    "# from sklearn.tree import export_graphviz\n",
    "# import graphviz"
   ]
  },
  {
   "cell_type": "code",
   "execution_count": 52,
   "id": "ea05afd6",
   "metadata": {},
   "outputs": [],
   "source": [
    "# dot_data = export_graphviz(clf, feature_names = x_train.columns, rounded=True, filled=True, out_file=None)\n",
    "# graph = graphviz.Source(dot_data)"
   ]
  },
  {
   "cell_type": "code",
   "execution_count": 53,
   "id": "d4c053a6",
   "metadata": {},
   "outputs": [],
   "source": [
    "############################# Do these exercises using the telco dataset ########################################"
   ]
  },
  {
   "cell_type": "code",
   "execution_count": 54,
   "id": "4763c665",
   "metadata": {},
   "outputs": [
    {
     "name": "stdout",
     "output_type": "stream",
     "text": [
      "Using cached csv\n"
     ]
    }
   ],
   "source": [
    "telco = acquire.get_telco_data()"
   ]
  },
  {
   "cell_type": "code",
   "execution_count": 55,
   "id": "0b46135a",
   "metadata": {},
   "outputs": [],
   "source": [
    "telco = prepare.prep_telco(telco)"
   ]
  },
  {
   "cell_type": "code",
   "execution_count": 56,
   "id": "6db1c19f",
   "metadata": {},
   "outputs": [
    {
     "data": {
      "text/html": [
       "<div>\n",
       "<style scoped>\n",
       "    .dataframe tbody tr th:only-of-type {\n",
       "        vertical-align: middle;\n",
       "    }\n",
       "\n",
       "    .dataframe tbody tr th {\n",
       "        vertical-align: top;\n",
       "    }\n",
       "\n",
       "    .dataframe thead th {\n",
       "        text-align: right;\n",
       "    }\n",
       "</style>\n",
       "<table border=\"1\" class=\"dataframe\">\n",
       "  <thead>\n",
       "    <tr style=\"text-align: right;\">\n",
       "      <th></th>\n",
       "      <th>monthly_charges</th>\n",
       "      <th>total_charges</th>\n",
       "      <th>gender_Male</th>\n",
       "      <th>partner_Yes</th>\n",
       "      <th>dependents_Yes</th>\n",
       "      <th>phone_service_Yes</th>\n",
       "      <th>multiple_lines_No phone service</th>\n",
       "      <th>multiple_lines_Yes</th>\n",
       "      <th>online_security_No internet service</th>\n",
       "      <th>online_security_Yes</th>\n",
       "      <th>...</th>\n",
       "      <th>streaming_movies_Yes</th>\n",
       "      <th>paperless_billing_Yes</th>\n",
       "      <th>churn_Yes</th>\n",
       "      <th>internet_service_type_Fiber optic</th>\n",
       "      <th>internet_service_type_None</th>\n",
       "      <th>contract_type_One year</th>\n",
       "      <th>contract_type_Two year</th>\n",
       "      <th>payment_type_Credit card (automatic)</th>\n",
       "      <th>payment_type_Electronic check</th>\n",
       "      <th>payment_type_Mailed check</th>\n",
       "    </tr>\n",
       "  </thead>\n",
       "  <tbody>\n",
       "    <tr>\n",
       "      <th>0</th>\n",
       "      <td>65.6</td>\n",
       "      <td>593.30</td>\n",
       "      <td>0</td>\n",
       "      <td>1</td>\n",
       "      <td>1</td>\n",
       "      <td>1</td>\n",
       "      <td>0</td>\n",
       "      <td>0</td>\n",
       "      <td>0</td>\n",
       "      <td>0</td>\n",
       "      <td>...</td>\n",
       "      <td>0</td>\n",
       "      <td>1</td>\n",
       "      <td>0</td>\n",
       "      <td>0</td>\n",
       "      <td>0</td>\n",
       "      <td>1</td>\n",
       "      <td>0</td>\n",
       "      <td>0</td>\n",
       "      <td>0</td>\n",
       "      <td>1</td>\n",
       "    </tr>\n",
       "    <tr>\n",
       "      <th>1</th>\n",
       "      <td>59.9</td>\n",
       "      <td>542.40</td>\n",
       "      <td>1</td>\n",
       "      <td>0</td>\n",
       "      <td>0</td>\n",
       "      <td>1</td>\n",
       "      <td>0</td>\n",
       "      <td>1</td>\n",
       "      <td>0</td>\n",
       "      <td>0</td>\n",
       "      <td>...</td>\n",
       "      <td>1</td>\n",
       "      <td>0</td>\n",
       "      <td>0</td>\n",
       "      <td>0</td>\n",
       "      <td>0</td>\n",
       "      <td>0</td>\n",
       "      <td>0</td>\n",
       "      <td>0</td>\n",
       "      <td>0</td>\n",
       "      <td>1</td>\n",
       "    </tr>\n",
       "    <tr>\n",
       "      <th>2</th>\n",
       "      <td>73.9</td>\n",
       "      <td>280.85</td>\n",
       "      <td>1</td>\n",
       "      <td>0</td>\n",
       "      <td>0</td>\n",
       "      <td>1</td>\n",
       "      <td>0</td>\n",
       "      <td>0</td>\n",
       "      <td>0</td>\n",
       "      <td>0</td>\n",
       "      <td>...</td>\n",
       "      <td>0</td>\n",
       "      <td>1</td>\n",
       "      <td>1</td>\n",
       "      <td>1</td>\n",
       "      <td>0</td>\n",
       "      <td>0</td>\n",
       "      <td>0</td>\n",
       "      <td>0</td>\n",
       "      <td>1</td>\n",
       "      <td>0</td>\n",
       "    </tr>\n",
       "    <tr>\n",
       "      <th>3</th>\n",
       "      <td>98.0</td>\n",
       "      <td>1237.85</td>\n",
       "      <td>1</td>\n",
       "      <td>1</td>\n",
       "      <td>0</td>\n",
       "      <td>1</td>\n",
       "      <td>0</td>\n",
       "      <td>0</td>\n",
       "      <td>0</td>\n",
       "      <td>0</td>\n",
       "      <td>...</td>\n",
       "      <td>1</td>\n",
       "      <td>1</td>\n",
       "      <td>1</td>\n",
       "      <td>1</td>\n",
       "      <td>0</td>\n",
       "      <td>0</td>\n",
       "      <td>0</td>\n",
       "      <td>0</td>\n",
       "      <td>1</td>\n",
       "      <td>0</td>\n",
       "    </tr>\n",
       "    <tr>\n",
       "      <th>4</th>\n",
       "      <td>83.9</td>\n",
       "      <td>267.40</td>\n",
       "      <td>0</td>\n",
       "      <td>1</td>\n",
       "      <td>0</td>\n",
       "      <td>1</td>\n",
       "      <td>0</td>\n",
       "      <td>0</td>\n",
       "      <td>0</td>\n",
       "      <td>0</td>\n",
       "      <td>...</td>\n",
       "      <td>0</td>\n",
       "      <td>1</td>\n",
       "      <td>1</td>\n",
       "      <td>1</td>\n",
       "      <td>0</td>\n",
       "      <td>0</td>\n",
       "      <td>0</td>\n",
       "      <td>0</td>\n",
       "      <td>0</td>\n",
       "      <td>1</td>\n",
       "    </tr>\n",
       "  </tbody>\n",
       "</table>\n",
       "<p>5 rows × 29 columns</p>\n",
       "</div>"
      ],
      "text/plain": [
       "   monthly_charges  total_charges  gender_Male  partner_Yes  dependents_Yes  \\\n",
       "0             65.6         593.30            0            1               1   \n",
       "1             59.9         542.40            1            0               0   \n",
       "2             73.9         280.85            1            0               0   \n",
       "3             98.0        1237.85            1            1               0   \n",
       "4             83.9         267.40            0            1               0   \n",
       "\n",
       "   phone_service_Yes  multiple_lines_No phone service  multiple_lines_Yes  \\\n",
       "0                  1                                0                   0   \n",
       "1                  1                                0                   1   \n",
       "2                  1                                0                   0   \n",
       "3                  1                                0                   0   \n",
       "4                  1                                0                   0   \n",
       "\n",
       "   online_security_No internet service  online_security_Yes  ...  \\\n",
       "0                                    0                    0  ...   \n",
       "1                                    0                    0  ...   \n",
       "2                                    0                    0  ...   \n",
       "3                                    0                    0  ...   \n",
       "4                                    0                    0  ...   \n",
       "\n",
       "   streaming_movies_Yes  paperless_billing_Yes  churn_Yes  \\\n",
       "0                     0                      1          0   \n",
       "1                     1                      0          0   \n",
       "2                     0                      1          1   \n",
       "3                     1                      1          1   \n",
       "4                     0                      1          1   \n",
       "\n",
       "   internet_service_type_Fiber optic  internet_service_type_None  \\\n",
       "0                                  0                           0   \n",
       "1                                  0                           0   \n",
       "2                                  1                           0   \n",
       "3                                  1                           0   \n",
       "4                                  1                           0   \n",
       "\n",
       "   contract_type_One year  contract_type_Two year  \\\n",
       "0                       1                       0   \n",
       "1                       0                       0   \n",
       "2                       0                       0   \n",
       "3                       0                       0   \n",
       "4                       0                       0   \n",
       "\n",
       "   payment_type_Credit card (automatic)  payment_type_Electronic check  \\\n",
       "0                                     0                              0   \n",
       "1                                     0                              0   \n",
       "2                                     0                              1   \n",
       "3                                     0                              1   \n",
       "4                                     0                              0   \n",
       "\n",
       "   payment_type_Mailed check  \n",
       "0                          1  \n",
       "1                          1  \n",
       "2                          0  \n",
       "3                          0  \n",
       "4                          1  \n",
       "\n",
       "[5 rows x 29 columns]"
      ]
     },
     "execution_count": 56,
     "metadata": {},
     "output_type": "execute_result"
    }
   ],
   "source": [
    "telco.head()"
   ]
  },
  {
   "cell_type": "code",
   "execution_count": 57,
   "id": "dcb9f8cf",
   "metadata": {},
   "outputs": [],
   "source": [
    "# Locating the NaN values in df\n",
    "is_nan = telco.isnull()\n",
    "row_has_nan = is_nan.any(axis=1)\n",
    "rows_with_nan = telco[row_has_nan]"
   ]
  },
  {
   "cell_type": "code",
   "execution_count": 58,
   "id": "81f334a1",
   "metadata": {},
   "outputs": [
    {
     "data": {
      "text/plain": [
       "0    5163\n",
       "1    1869\n",
       "Name: churn_Yes, dtype: int64"
      ]
     },
     "execution_count": 58,
     "metadata": {},
     "output_type": "execute_result"
    }
   ],
   "source": [
    "telco.churn_Yes.value_counts()"
   ]
  },
  {
   "cell_type": "code",
   "execution_count": 59,
   "id": "d3cbad7b",
   "metadata": {},
   "outputs": [
    {
     "data": {
      "text/plain": [
       "False"
      ]
     },
     "execution_count": 59,
     "metadata": {},
     "output_type": "execute_result"
    }
   ],
   "source": [
    "telco.isnull().values.any()"
   ]
  },
  {
   "cell_type": "code",
   "execution_count": 60,
   "id": "30d169c0",
   "metadata": {},
   "outputs": [],
   "source": [
    "train, validate, test = train_validate_test_split(telco, 'churn_Yes', seed=123)"
   ]
  },
  {
   "cell_type": "code",
   "execution_count": 61,
   "id": "1360be0a",
   "metadata": {},
   "outputs": [
    {
     "data": {
      "text/plain": [
       "((3937, 29), (1688, 29), (1407, 29))"
      ]
     },
     "execution_count": 61,
     "metadata": {},
     "output_type": "execute_result"
    }
   ],
   "source": [
    "train.shape, validate.shape, test.shape"
   ]
  },
  {
   "cell_type": "code",
   "execution_count": 62,
   "id": "27dfa94a",
   "metadata": {},
   "outputs": [],
   "source": [
    "train['baseline'] = 0"
   ]
  },
  {
   "cell_type": "code",
   "execution_count": 63,
   "id": "f20b1139",
   "metadata": {},
   "outputs": [
    {
     "data": {
      "text/plain": [
       "0.7343154686309372"
      ]
     },
     "execution_count": 63,
     "metadata": {},
     "output_type": "execute_result"
    }
   ],
   "source": [
    "accuracy_score(train.churn_Yes, train.baseline)"
   ]
  },
  {
   "cell_type": "code",
   "execution_count": 64,
   "id": "a5bb7807",
   "metadata": {},
   "outputs": [],
   "source": [
    "train.drop(columns='baseline', inplace=True)"
   ]
  },
  {
   "cell_type": "code",
   "execution_count": 65,
   "id": "fc6d08a0",
   "metadata": {},
   "outputs": [],
   "source": [
    "x_train = train.drop(columns='churn_Yes')\n",
    "x_validate = validate.drop(columns='churn_Yes')\n",
    "x_test = test.drop(columns='churn_Yes')"
   ]
  },
  {
   "cell_type": "code",
   "execution_count": 66,
   "id": "df31cfc6",
   "metadata": {},
   "outputs": [],
   "source": [
    "y_train = train.churn_Yes\n",
    "y_validate = validate.churn_Yes\n",
    "y_test = test.churn_Yes"
   ]
  },
  {
   "cell_type": "code",
   "execution_count": 67,
   "id": "66f36142",
   "metadata": {},
   "outputs": [],
   "source": [
    "clf = DecisionTreeClassifier(max_depth = 3, random_state=123)"
   ]
  },
  {
   "cell_type": "code",
   "execution_count": 68,
   "id": "c5e4ae50",
   "metadata": {},
   "outputs": [],
   "source": [
    "clf = clf.fit(x_train, y_train)"
   ]
  },
  {
   "cell_type": "code",
   "execution_count": 69,
   "id": "6705f2b5",
   "metadata": {},
   "outputs": [
    {
     "data": {
      "text/plain": [
       "[Text(502.20000000000005, 856.1700000000001, 'internet_service_type_Fiber optic <= 0.5\\ngini = 0.39\\nsamples = 3937\\nvalue = [2891, 1046]\\nclass = no churn'),\n",
       " Text(251.10000000000002, 611.55, 'total_charges <= 237.275\\ngini = 0.241\\nsamples = 2215\\nvalue = [1904, 311]\\nclass = no churn'),\n",
       " Text(125.55000000000001, 366.93000000000006, 'streaming_movies_No internet service <= 0.5\\ngini = 0.453\\nsamples = 539\\nvalue = [352, 187]\\nclass = no churn'),\n",
       " Text(62.775000000000006, 122.30999999999995, 'gini = 0.5\\nsamples = 263\\nvalue = [129, 134]\\nclass = churn'),\n",
       " Text(188.32500000000002, 122.30999999999995, 'gini = 0.31\\nsamples = 276\\nvalue = [223, 53]\\nclass = no churn'),\n",
       " Text(376.65000000000003, 366.93000000000006, 'contract_type_Two year <= 0.5\\ngini = 0.137\\nsamples = 1676\\nvalue = [1552, 124]\\nclass = no churn'),\n",
       " Text(313.875, 122.30999999999995, 'gini = 0.203\\nsamples = 985\\nvalue = [872, 113]\\nclass = no churn'),\n",
       " Text(439.42500000000007, 122.30999999999995, 'gini = 0.031\\nsamples = 691\\nvalue = [680, 11]\\nclass = no churn'),\n",
       " Text(753.3000000000001, 611.55, 'total_charges <= 1493.025\\ngini = 0.489\\nsamples = 1722\\nvalue = [987, 735]\\nclass = no churn'),\n",
       " Text(627.75, 366.93000000000006, 'total_charges <= 124.475\\ngini = 0.415\\nsamples = 598\\nvalue = [176, 422]\\nclass = churn'),\n",
       " Text(564.975, 122.30999999999995, 'gini = 0.203\\nsamples = 131\\nvalue = [15, 116]\\nclass = churn'),\n",
       " Text(690.5250000000001, 122.30999999999995, 'gini = 0.452\\nsamples = 467\\nvalue = [161, 306]\\nclass = churn'),\n",
       " Text(878.8500000000001, 366.93000000000006, 'total_charges <= 4551.05\\ngini = 0.402\\nsamples = 1124\\nvalue = [811, 313]\\nclass = no churn'),\n",
       " Text(816.075, 122.30999999999995, 'gini = 0.48\\nsamples = 533\\nvalue = [320, 213]\\nclass = no churn'),\n",
       " Text(941.6250000000001, 122.30999999999995, 'gini = 0.281\\nsamples = 591\\nvalue = [491, 100]\\nclass = no churn')]"
      ]
     },
     "execution_count": 69,
     "metadata": {},
     "output_type": "execute_result"
    },
    {
     "data": {
      "image/png": "[encoded data removed]",
      "text/plain": [
       "<Figure size 1296x1296 with 1 Axes>"
      ]
     },
     "metadata": {
      "needs_background": "light"
     },
     "output_type": "display_data"
    }
   ],
   "source": [
    "plt.figure(figsize=(18, 18))\n",
    "plot_tree(clf, feature_names=x_train.columns, class_names=['no churn', 'churn'], rounded=True)"
   ]
  },
  {
   "cell_type": "code",
   "execution_count": 70,
   "id": "7add291b",
   "metadata": {},
   "outputs": [],
   "source": [
    "y_pred = clf.predict(x_train)"
   ]
  },
  {
   "cell_type": "code",
   "execution_count": 71,
   "id": "5021f61b",
   "metadata": {},
   "outputs": [],
   "source": [
    "y_prep_proba = clf.predict_proba(x_train)"
   ]
  },
  {
   "cell_type": "code",
   "execution_count": 72,
   "id": "b0a9f117",
   "metadata": {},
   "outputs": [
    {
     "data": {
      "text/plain": [
       "0.7980695961391923"
      ]
     },
     "execution_count": 72,
     "metadata": {},
     "output_type": "execute_result"
    }
   ],
   "source": [
    "clf.score(x_train, y_train)"
   ]
  },
  {
   "cell_type": "code",
   "execution_count": 73,
   "id": "a716647e",
   "metadata": {},
   "outputs": [
    {
     "data": {
      "text/plain": [
       "array([[2586,  305],\n",
       "       [ 490,  556]])"
      ]
     },
     "execution_count": 73,
     "metadata": {},
     "output_type": "execute_result"
    }
   ],
   "source": [
    "confusion_matrix(y_train, y_pred)"
   ]
  },
  {
   "cell_type": "code",
   "execution_count": 74,
   "id": "57357863",
   "metadata": {},
   "outputs": [
    {
     "data": {
      "text/plain": [
       "0    2891\n",
       "1    1046\n",
       "Name: churn_Yes, dtype: int64"
      ]
     },
     "execution_count": 74,
     "metadata": {},
     "output_type": "execute_result"
    }
   ],
   "source": [
    "y_train.value_counts()"
   ]
  },
  {
   "cell_type": "code",
   "execution_count": 75,
   "id": "74c9007b",
   "metadata": {},
   "outputs": [
    {
     "data": {
      "text/html": [
       "<div>\n",
       "<style scoped>\n",
       "    .dataframe tbody tr th:only-of-type {\n",
       "        vertical-align: middle;\n",
       "    }\n",
       "\n",
       "    .dataframe tbody tr th {\n",
       "        vertical-align: top;\n",
       "    }\n",
       "\n",
       "    .dataframe thead th {\n",
       "        text-align: right;\n",
       "    }\n",
       "</style>\n",
       "<table border=\"1\" class=\"dataframe\">\n",
       "  <thead>\n",
       "    <tr style=\"text-align: right;\">\n",
       "      <th></th>\n",
       "      <th>0</th>\n",
       "      <th>1</th>\n",
       "    </tr>\n",
       "  </thead>\n",
       "  <tbody>\n",
       "    <tr>\n",
       "      <th>0</th>\n",
       "      <td>2586</td>\n",
       "      <td>305</td>\n",
       "    </tr>\n",
       "    <tr>\n",
       "      <th>1</th>\n",
       "      <td>490</td>\n",
       "      <td>556</td>\n",
       "    </tr>\n",
       "  </tbody>\n",
       "</table>\n",
       "</div>"
      ],
      "text/plain": [
       "      0    1\n",
       "0  2586  305\n",
       "1   490  556"
      ]
     },
     "execution_count": 75,
     "metadata": {},
     "output_type": "execute_result"
    }
   ],
   "source": [
    "labels = sorted(y_train.unique())\n",
    "pd.DataFrame(confusion_matrix(y_train, y_pred), index=labels, columns=labels)"
   ]
  },
  {
   "cell_type": "code",
   "execution_count": 76,
   "id": "891066c7",
   "metadata": {},
   "outputs": [
    {
     "name": "stdout",
     "output_type": "stream",
     "text": [
      "              precision    recall  f1-score   support\n",
      "\n",
      "           0       0.84      0.89      0.87      2891\n",
      "           1       0.65      0.53      0.58      1046\n",
      "\n",
      "    accuracy                           0.80      3937\n",
      "   macro avg       0.74      0.71      0.72      3937\n",
      "weighted avg       0.79      0.80      0.79      3937\n",
      "\n"
     ]
    }
   ],
   "source": [
    "print(classification_report(y_train, y_pred))"
   ]
  },
  {
   "cell_type": "code",
   "execution_count": 77,
   "id": "27f65b49",
   "metadata": {},
   "outputs": [
    {
     "data": {
      "text/plain": [
       "0.7742890995260664"
      ]
     },
     "execution_count": 77,
     "metadata": {},
     "output_type": "execute_result"
    }
   ],
   "source": [
    "clf.score(x_validate, y_validate)"
   ]
  },
  {
   "cell_type": "code",
   "execution_count": 78,
   "id": "abe18c2e",
   "metadata": {},
   "outputs": [],
   "source": [
    "y_pred = clf.predict(x_validate)"
   ]
  },
  {
   "cell_type": "code",
   "execution_count": 79,
   "id": "bb214b5a",
   "metadata": {},
   "outputs": [
    {
     "name": "stdout",
     "output_type": "stream",
     "text": [
      "              precision    recall  f1-score   support\n",
      "\n",
      "           0       0.83      0.87      0.85      1239\n",
      "           1       0.59      0.50      0.54       449\n",
      "\n",
      "    accuracy                           0.77      1688\n",
      "   macro avg       0.71      0.69      0.70      1688\n",
      "weighted avg       0.76      0.77      0.77      1688\n",
      "\n"
     ]
    }
   ],
   "source": [
    "print(classification_report(y_validate, y_pred))"
   ]
  },
  {
   "cell_type": "code",
   "execution_count": 80,
   "id": "4635050d",
   "metadata": {},
   "outputs": [],
   "source": [
    "clf = DecisionTreeClassifier(max_depth = 2, random_state=123)"
   ]
  },
  {
   "cell_type": "code",
   "execution_count": 81,
   "id": "a7e14fb5",
   "metadata": {},
   "outputs": [],
   "source": [
    "clf = clf.fit(x_train, y_train)"
   ]
  },
  {
   "cell_type": "code",
   "execution_count": 82,
   "id": "a827b11e",
   "metadata": {},
   "outputs": [
    {
     "data": {
      "text/plain": [
       "[Text(362.7, 317.09999999999997, 'internet_service_type_Fiber optic <= 0.5\\ngini = 0.39\\nsamples = 3937\\nvalue = [2891, 1046]\\nclass = no churn'),\n",
       " Text(181.35, 190.26, 'total_charges <= 237.275\\ngini = 0.241\\nsamples = 2215\\nvalue = [1904, 311]\\nclass = no churn'),\n",
       " Text(90.675, 63.420000000000016, 'gini = 0.453\\nsamples = 539\\nvalue = [352, 187]\\nclass = no churn'),\n",
       " Text(272.025, 63.420000000000016, 'gini = 0.137\\nsamples = 1676\\nvalue = [1552, 124]\\nclass = no churn'),\n",
       " Text(544.05, 190.26, 'total_charges <= 1493.025\\ngini = 0.489\\nsamples = 1722\\nvalue = [987, 735]\\nclass = no churn'),\n",
       " Text(453.375, 63.420000000000016, 'gini = 0.415\\nsamples = 598\\nvalue = [176, 422]\\nclass = churn'),\n",
       " Text(634.725, 63.420000000000016, 'gini = 0.402\\nsamples = 1124\\nvalue = [811, 313]\\nclass = no churn')]"
      ]
     },
     "execution_count": 82,
     "metadata": {},
     "output_type": "execute_result"
    },
    {
     "data": {
      "image/png": "[encoded data removed]",
      "text/plain": [
       "<Figure size 936x504 with 1 Axes>"
      ]
     },
     "metadata": {
      "needs_background": "light"
     },
     "output_type": "display_data"
    }
   ],
   "source": [
    "plt.figure(figsize=(13,7))\n",
    "plot_tree(clf, feature_names = x_train.columns, class_names=['no churn', 'churn'], rounded = True)"
   ]
  },
  {
   "cell_type": "code",
   "execution_count": 83,
   "id": "23a04d8b",
   "metadata": {},
   "outputs": [],
   "source": [
    "y_pred = clf.predict(x_train)"
   ]
  },
  {
   "cell_type": "code",
   "execution_count": 84,
   "id": "10d34d10",
   "metadata": {},
   "outputs": [
    {
     "data": {
      "text/plain": [
       "0.7967995935991872"
      ]
     },
     "execution_count": 84,
     "metadata": {},
     "output_type": "execute_result"
    }
   ],
   "source": [
    "clf.score(x_train, y_train)"
   ]
  },
  {
   "cell_type": "code",
   "execution_count": 85,
   "id": "e6a61ad7",
   "metadata": {},
   "outputs": [
    {
     "data": {
      "text/plain": [
       "array([[2715,  176],\n",
       "       [ 624,  422]])"
      ]
     },
     "execution_count": 85,
     "metadata": {},
     "output_type": "execute_result"
    }
   ],
   "source": [
    "confusion_matrix(y_train, y_pred)"
   ]
  },
  {
   "cell_type": "code",
   "execution_count": 86,
   "id": "fe7fa055",
   "metadata": {},
   "outputs": [
    {
     "data": {
      "text/plain": [
       "0    2891\n",
       "1    1046\n",
       "Name: churn_Yes, dtype: int64"
      ]
     },
     "execution_count": 86,
     "metadata": {},
     "output_type": "execute_result"
    }
   ],
   "source": [
    "y_train.value_counts()"
   ]
  },
  {
   "cell_type": "code",
   "execution_count": 87,
   "id": "25953dc1",
   "metadata": {},
   "outputs": [
    {
     "data": {
      "text/html": [
       "<div>\n",
       "<style scoped>\n",
       "    .dataframe tbody tr th:only-of-type {\n",
       "        vertical-align: middle;\n",
       "    }\n",
       "\n",
       "    .dataframe tbody tr th {\n",
       "        vertical-align: top;\n",
       "    }\n",
       "\n",
       "    .dataframe thead th {\n",
       "        text-align: right;\n",
       "    }\n",
       "</style>\n",
       "<table border=\"1\" class=\"dataframe\">\n",
       "  <thead>\n",
       "    <tr style=\"text-align: right;\">\n",
       "      <th></th>\n",
       "      <th>0</th>\n",
       "      <th>1</th>\n",
       "    </tr>\n",
       "  </thead>\n",
       "  <tbody>\n",
       "    <tr>\n",
       "      <th>0</th>\n",
       "      <td>2715</td>\n",
       "      <td>176</td>\n",
       "    </tr>\n",
       "    <tr>\n",
       "      <th>1</th>\n",
       "      <td>624</td>\n",
       "      <td>422</td>\n",
       "    </tr>\n",
       "  </tbody>\n",
       "</table>\n",
       "</div>"
      ],
      "text/plain": [
       "      0    1\n",
       "0  2715  176\n",
       "1   624  422"
      ]
     },
     "execution_count": 87,
     "metadata": {},
     "output_type": "execute_result"
    }
   ],
   "source": [
    "pd.DataFrame(confusion_matrix(y_train, y_pred), index=labels, columns=labels)"
   ]
  },
  {
   "cell_type": "code",
   "execution_count": 88,
   "id": "dff4891b",
   "metadata": {},
   "outputs": [
    {
     "name": "stdout",
     "output_type": "stream",
     "text": [
      "              precision    recall  f1-score   support\n",
      "\n",
      "           0       0.81      0.94      0.87      2891\n",
      "           1       0.71      0.40      0.51      1046\n",
      "\n",
      "    accuracy                           0.80      3937\n",
      "   macro avg       0.76      0.67      0.69      3937\n",
      "weighted avg       0.78      0.80      0.78      3937\n",
      "\n"
     ]
    }
   ],
   "source": [
    "print(classification_report(y_train, y_pred))"
   ]
  },
  {
   "cell_type": "code",
   "execution_count": 89,
   "id": "2a7dfad2",
   "metadata": {},
   "outputs": [
    {
     "data": {
      "text/plain": [
       "0.7725118483412322"
      ]
     },
     "execution_count": 89,
     "metadata": {},
     "output_type": "execute_result"
    }
   ],
   "source": [
    "clf.score(x_validate, y_validate)"
   ]
  },
  {
   "cell_type": "code",
   "execution_count": 90,
   "id": "ddca0397",
   "metadata": {},
   "outputs": [
    {
     "name": "stdout",
     "output_type": "stream",
     "text": [
      "              precision    recall  f1-score   support\n",
      "\n",
      "           0       0.80      0.91      0.85      1239\n",
      "           1       0.61      0.39      0.48       449\n",
      "\n",
      "    accuracy                           0.77      1688\n",
      "   macro avg       0.71      0.65      0.67      1688\n",
      "weighted avg       0.75      0.77      0.75      1688\n",
      "\n"
     ]
    }
   ],
   "source": [
    "y_pred = clf.predict(x_validate)\n",
    "print(classification_report(y_validate, y_pred))"
   ]
  },
  {
   "cell_type": "code",
   "execution_count": 91,
   "id": "a6698201",
   "metadata": {},
   "outputs": [],
   "source": [
    "# There is not as much difference as I would've expected between the max_depth of 2 or 3 for this data. The larger\n",
    "# max_depth still provides better results, but not by as much as I would have guessed. "
   ]
  },
  {
   "cell_type": "code",
   "execution_count": 92,
   "id": "c74c25da",
   "metadata": {},
   "outputs": [],
   "source": [
    "################################################################################################################"
   ]
  },
  {
   "cell_type": "code",
   "execution_count": 93,
   "id": "9f53d825",
   "metadata": {},
   "outputs": [],
   "source": [
    "# Random Forest Exercise"
   ]
  },
  {
   "cell_type": "code",
   "execution_count": 94,
   "id": "c4a27af8",
   "metadata": {},
   "outputs": [],
   "source": [
    "# 1. Fit the Random Forest classifier to your training sample and tansform, setting random_state accordingly and \n",
    "# setting min_samples_leaf = 1 and max_depth = 10"
   ]
  },
  {
   "cell_type": "code",
   "execution_count": 95,
   "id": "95eb2d83",
   "metadata": {},
   "outputs": [],
   "source": [
    "from sklearn.ensemble import RandomForestClassifier"
   ]
  },
  {
   "cell_type": "code",
   "execution_count": 96,
   "id": "f15f1983",
   "metadata": {},
   "outputs": [
    {
     "name": "stdout",
     "output_type": "stream",
     "text": [
      "Using cached csv\n"
     ]
    }
   ],
   "source": [
    "titanic = acquire.get_titanic_data()"
   ]
  },
  {
   "cell_type": "code",
   "execution_count": 97,
   "id": "c6fc4e1b",
   "metadata": {},
   "outputs": [],
   "source": [
    "titanic = prepare.prep_titanic(titanic)"
   ]
  },
  {
   "cell_type": "code",
   "execution_count": 98,
   "id": "b2013abe",
   "metadata": {},
   "outputs": [],
   "source": [
    "train, validate, test = train_validate_test_split(titanic, 'survived', seed=123)"
   ]
  },
  {
   "cell_type": "code",
   "execution_count": 99,
   "id": "7ce2c3be",
   "metadata": {},
   "outputs": [
    {
     "data": {
      "text/plain": [
       "((498, 9), (214, 9), (179, 9))"
      ]
     },
     "execution_count": 99,
     "metadata": {},
     "output_type": "execute_result"
    }
   ],
   "source": [
    "train.shape, validate.shape, test.shape"
   ]
  },
  {
   "cell_type": "code",
   "execution_count": 100,
   "id": "59623bd5",
   "metadata": {},
   "outputs": [],
   "source": [
    "train['baseline'] = 0\n",
    "accuracy_score(train.survived, train.baseline)\n",
    "train.drop(columns='baseline', inplace=True)"
   ]
  },
  {
   "cell_type": "code",
   "execution_count": 101,
   "id": "a89a207e",
   "metadata": {},
   "outputs": [],
   "source": [
    "x_train = train.drop(columns='survived')\n",
    "y_train = train.survived"
   ]
  },
  {
   "cell_type": "code",
   "execution_count": 102,
   "id": "65fb9de3",
   "metadata": {},
   "outputs": [],
   "source": [
    "x_validate = validate.drop(columns='survived')\n",
    "y_validate = validate.survived\n",
    "x_test = test.drop(columns='survived')\n",
    "y_test = test.survived"
   ]
  },
  {
   "cell_type": "code",
   "execution_count": 103,
   "id": "47062cbb",
   "metadata": {},
   "outputs": [],
   "source": [
    "rf = RandomForestClassifier(bootstrap=True, class_weight=None, criterion='gini', min_samples_leaf=1, max_depth=10,\n",
    "                           n_estimators=100, random_state=123)"
   ]
  },
  {
   "cell_type": "code",
   "execution_count": 104,
   "id": "3025fbe2",
   "metadata": {},
   "outputs": [
    {
     "data": {
      "text/plain": [
       "RandomForestClassifier(max_depth=10, random_state=123)"
      ]
     },
     "execution_count": 104,
     "metadata": {},
     "output_type": "execute_result"
    }
   ],
   "source": [
    "rf.fit(x_train, y_train)"
   ]
  },
  {
   "cell_type": "code",
   "execution_count": 105,
   "id": "ded3c51f",
   "metadata": {},
   "outputs": [
    {
     "name": "stdout",
     "output_type": "stream",
     "text": [
      "[0.10002143 0.06879504 0.05292745 0.3838233  0.02319394 0.32803056\n",
      " 0.01522288 0.02798539]\n"
     ]
    }
   ],
   "source": [
    "print(rf.feature_importances_)"
   ]
  },
  {
   "cell_type": "code",
   "execution_count": 106,
   "id": "564f7b1d",
   "metadata": {},
   "outputs": [],
   "source": [
    "y_pred = rf.predict(x_train)"
   ]
  },
  {
   "cell_type": "code",
   "execution_count": 107,
   "id": "f4bf393c",
   "metadata": {},
   "outputs": [],
   "source": [
    "y_pred_proba = rf.predict_proba(x_train)"
   ]
  },
  {
   "cell_type": "code",
   "execution_count": 108,
   "id": "b38664c3",
   "metadata": {},
   "outputs": [
    {
     "data": {
      "text/plain": [
       "0.9437751004016064"
      ]
     },
     "execution_count": 108,
     "metadata": {},
     "output_type": "execute_result"
    }
   ],
   "source": [
    "rf.score(x_train, y_train)"
   ]
  },
  {
   "cell_type": "code",
   "execution_count": 109,
   "id": "1a2c53b4",
   "metadata": {},
   "outputs": [
    {
     "name": "stdout",
     "output_type": "stream",
     "text": [
      "[[301   6]\n",
      " [ 22 169]]\n"
     ]
    }
   ],
   "source": [
    "print(confusion_matrix(y_train, y_pred))"
   ]
  },
  {
   "cell_type": "code",
   "execution_count": 110,
   "id": "c6548648",
   "metadata": {},
   "outputs": [
    {
     "name": "stdout",
     "output_type": "stream",
     "text": [
      "              precision    recall  f1-score   support\n",
      "\n",
      "           0       0.93      0.98      0.96       307\n",
      "           1       0.97      0.88      0.92       191\n",
      "\n",
      "    accuracy                           0.94       498\n",
      "   macro avg       0.95      0.93      0.94       498\n",
      "weighted avg       0.94      0.94      0.94       498\n",
      "\n"
     ]
    }
   ],
   "source": [
    "print(classification_report(y_train, y_pred))"
   ]
  },
  {
   "cell_type": "code",
   "execution_count": 111,
   "id": "f5dff3a6",
   "metadata": {},
   "outputs": [
    {
     "data": {
      "text/plain": [
       "0.7850467289719626"
      ]
     },
     "execution_count": 111,
     "metadata": {},
     "output_type": "execute_result"
    }
   ],
   "source": [
    "rf.score(x_validate, y_validate)"
   ]
  },
  {
   "cell_type": "code",
   "execution_count": 112,
   "id": "de665fbb",
   "metadata": {},
   "outputs": [
    {
     "name": "stdout",
     "output_type": "stream",
     "text": [
      "\n",
      "The accuracy for our model is  0.9438\n",
      "The True Positive Rate is 0.885, The False Positive Rate is 0.0195,\n",
      "The True Negative Rate is 0.98, and the False Negative Rate is 0.115\n",
      "\n"
     ]
    },
    {
     "data": {
      "text/html": [
       "<div>\n",
       "<style scoped>\n",
       "    .dataframe tbody tr th:only-of-type {\n",
       "        vertical-align: middle;\n",
       "    }\n",
       "\n",
       "    .dataframe tbody tr th {\n",
       "        vertical-align: top;\n",
       "    }\n",
       "\n",
       "    .dataframe thead th {\n",
       "        text-align: right;\n",
       "    }\n",
       "</style>\n",
       "<table border=\"1\" class=\"dataframe\">\n",
       "  <thead>\n",
       "    <tr style=\"text-align: right;\">\n",
       "      <th></th>\n",
       "      <th>precision</th>\n",
       "      <th>recall</th>\n",
       "      <th>f1-score</th>\n",
       "      <th>support</th>\n",
       "    </tr>\n",
       "  </thead>\n",
       "  <tbody>\n",
       "    <tr>\n",
       "      <th>0</th>\n",
       "      <td>0.931889</td>\n",
       "      <td>0.980456</td>\n",
       "      <td>0.955556</td>\n",
       "      <td>307.000000</td>\n",
       "    </tr>\n",
       "    <tr>\n",
       "      <th>1</th>\n",
       "      <td>0.965714</td>\n",
       "      <td>0.884817</td>\n",
       "      <td>0.923497</td>\n",
       "      <td>191.000000</td>\n",
       "    </tr>\n",
       "    <tr>\n",
       "      <th>accuracy</th>\n",
       "      <td>0.943775</td>\n",
       "      <td>0.943775</td>\n",
       "      <td>0.943775</td>\n",
       "      <td>0.943775</td>\n",
       "    </tr>\n",
       "    <tr>\n",
       "      <th>macro avg</th>\n",
       "      <td>0.948801</td>\n",
       "      <td>0.932636</td>\n",
       "      <td>0.939526</td>\n",
       "      <td>498.000000</td>\n",
       "    </tr>\n",
       "    <tr>\n",
       "      <th>weighted avg</th>\n",
       "      <td>0.944862</td>\n",
       "      <td>0.943775</td>\n",
       "      <td>0.943260</td>\n",
       "      <td>498.000000</td>\n",
       "    </tr>\n",
       "  </tbody>\n",
       "</table>\n",
       "</div>"
      ],
      "text/plain": [
       "              precision    recall  f1-score     support\n",
       "0              0.931889  0.980456  0.955556  307.000000\n",
       "1              0.965714  0.884817  0.923497  191.000000\n",
       "accuracy       0.943775  0.943775  0.943775    0.943775\n",
       "macro avg      0.948801  0.932636  0.939526  498.000000\n",
       "weighted avg   0.944862  0.943775  0.943260  498.000000"
      ]
     },
     "execution_count": 112,
     "metadata": {},
     "output_type": "execute_result"
    }
   ],
   "source": [
    "accuracy = rf.score(x_train, y_train)\n",
    "y_pred = rf.predict(x_train)\n",
    "conf = confusion_matrix(y_train, y_pred)\n",
    "class_report = pd.DataFrame(classification_report(y_train, y_pred, output_dict=True)).T\n",
    "conf = confusion_matrix(y_train, y_pred)\n",
    "tpr = conf[1][1] / conf[1].sum()\n",
    "fpr = conf[0][1] / conf[0].sum()\n",
    "tnr = conf[0][0] / conf[0].sum()\n",
    "fnr = conf[1][0] / conf[1].sum()\n",
    "print(f'''\n",
    "The accuracy for our model is {accuracy: .4}\n",
    "The True Positive Rate is {tpr:.3}, The False Positive Rate is {fpr:.3},\n",
    "The True Negative Rate is {tnr:.3}, and the False Negative Rate is {fnr:.3}\n",
    "''')\n",
    "class_report"
   ]
  },
  {
   "cell_type": "code",
   "execution_count": 113,
   "id": "329036d8",
   "metadata": {},
   "outputs": [],
   "source": [
    "# 4. Repeat above steps using different min_samples_leaf and max_depth values"
   ]
  },
  {
   "cell_type": "code",
   "execution_count": 114,
   "id": "3c0ee13d",
   "metadata": {},
   "outputs": [],
   "source": [
    "rf = RandomForestClassifier(bootstrap=True, class_weight=None, criterion='gini', min_samples_leaf=2, max_depth=8,\n",
    "                           n_estimators=100, random_state=123)"
   ]
  },
  {
   "cell_type": "code",
   "execution_count": 115,
   "id": "02e00781",
   "metadata": {},
   "outputs": [
    {
     "data": {
      "text/plain": [
       "RandomForestClassifier(max_depth=8, min_samples_leaf=2, random_state=123)"
      ]
     },
     "execution_count": 115,
     "metadata": {},
     "output_type": "execute_result"
    }
   ],
   "source": [
    "rf.fit(x_train, y_train)"
   ]
  },
  {
   "cell_type": "code",
   "execution_count": 116,
   "id": "183ec645",
   "metadata": {},
   "outputs": [
    {
     "name": "stdout",
     "output_type": "stream",
     "text": [
      "\n",
      "The accuracy for our model is  0.8876\n",
      "The True Positive Rate is 0.764, The False Positive Rate is 0.0358,\n",
      "The True Negative Rate is 0.964, and the False Negative Rate is 0.236\n",
      "\n"
     ]
    },
    {
     "data": {
      "text/html": [
       "<div>\n",
       "<style scoped>\n",
       "    .dataframe tbody tr th:only-of-type {\n",
       "        vertical-align: middle;\n",
       "    }\n",
       "\n",
       "    .dataframe tbody tr th {\n",
       "        vertical-align: top;\n",
       "    }\n",
       "\n",
       "    .dataframe thead th {\n",
       "        text-align: right;\n",
       "    }\n",
       "</style>\n",
       "<table border=\"1\" class=\"dataframe\">\n",
       "  <thead>\n",
       "    <tr style=\"text-align: right;\">\n",
       "      <th></th>\n",
       "      <th>precision</th>\n",
       "      <th>recall</th>\n",
       "      <th>f1-score</th>\n",
       "      <th>support</th>\n",
       "    </tr>\n",
       "  </thead>\n",
       "  <tbody>\n",
       "    <tr>\n",
       "      <th>0</th>\n",
       "      <td>0.868035</td>\n",
       "      <td>0.964169</td>\n",
       "      <td>0.913580</td>\n",
       "      <td>307.00000</td>\n",
       "    </tr>\n",
       "    <tr>\n",
       "      <th>1</th>\n",
       "      <td>0.929936</td>\n",
       "      <td>0.764398</td>\n",
       "      <td>0.839080</td>\n",
       "      <td>191.00000</td>\n",
       "    </tr>\n",
       "    <tr>\n",
       "      <th>accuracy</th>\n",
       "      <td>0.887550</td>\n",
       "      <td>0.887550</td>\n",
       "      <td>0.887550</td>\n",
       "      <td>0.88755</td>\n",
       "    </tr>\n",
       "    <tr>\n",
       "      <th>macro avg</th>\n",
       "      <td>0.898986</td>\n",
       "      <td>0.864284</td>\n",
       "      <td>0.876330</td>\n",
       "      <td>498.00000</td>\n",
       "    </tr>\n",
       "    <tr>\n",
       "      <th>weighted avg</th>\n",
       "      <td>0.891776</td>\n",
       "      <td>0.887550</td>\n",
       "      <td>0.885007</td>\n",
       "      <td>498.00000</td>\n",
       "    </tr>\n",
       "  </tbody>\n",
       "</table>\n",
       "</div>"
      ],
      "text/plain": [
       "              precision    recall  f1-score    support\n",
       "0              0.868035  0.964169  0.913580  307.00000\n",
       "1              0.929936  0.764398  0.839080  191.00000\n",
       "accuracy       0.887550  0.887550  0.887550    0.88755\n",
       "macro avg      0.898986  0.864284  0.876330  498.00000\n",
       "weighted avg   0.891776  0.887550  0.885007  498.00000"
      ]
     },
     "execution_count": 116,
     "metadata": {},
     "output_type": "execute_result"
    }
   ],
   "source": [
    "accuracy = rf.score(x_train, y_train)\n",
    "y_pred = rf.predict(x_train)\n",
    "conf = confusion_matrix(y_train, y_pred)\n",
    "class_report = pd.DataFrame(classification_report(y_train, y_pred, output_dict=True)).T\n",
    "conf = confusion_matrix(y_train, y_pred)\n",
    "tpr = conf[1][1] / conf[1].sum()\n",
    "fpr = conf[0][1] / conf[0].sum()\n",
    "tnr = conf[0][0] / conf[0].sum()\n",
    "fnr = conf[1][0] / conf[1].sum()\n",
    "print(f'''\n",
    "The accuracy for our model is {accuracy: .4}\n",
    "The True Positive Rate is {tpr:.3}, The False Positive Rate is {fpr:.3},\n",
    "The True Negative Rate is {tnr:.3}, and the False Negative Rate is {fnr:.3}\n",
    "''')\n",
    "class_report"
   ]
  },
  {
   "cell_type": "code",
   "execution_count": 117,
   "id": "c4b5dd0b",
   "metadata": {},
   "outputs": [
    {
     "data": {
      "text/plain": [
       "0.7990654205607477"
      ]
     },
     "execution_count": 117,
     "metadata": {},
     "output_type": "execute_result"
    }
   ],
   "source": [
    "rf.score(x_validate, y_validate)"
   ]
  },
  {
   "cell_type": "code",
   "execution_count": 118,
   "id": "b1114466",
   "metadata": {},
   "outputs": [],
   "source": [
    "rf = RandomForestClassifier(bootstrap=True, class_weight=None, criterion='gini', min_samples_leaf=3, max_depth=6,\n",
    "                           n_estimators=100, random_state=123)"
   ]
  },
  {
   "cell_type": "code",
   "execution_count": 119,
   "id": "41d3cd4b",
   "metadata": {},
   "outputs": [
    {
     "data": {
      "text/plain": [
       "RandomForestClassifier(max_depth=6, min_samples_leaf=3, random_state=123)"
      ]
     },
     "execution_count": 119,
     "metadata": {},
     "output_type": "execute_result"
    }
   ],
   "source": [
    "rf.fit(x_train, y_train)"
   ]
  },
  {
   "cell_type": "code",
   "execution_count": 120,
   "id": "d3b68d91",
   "metadata": {},
   "outputs": [
    {
     "name": "stdout",
     "output_type": "stream",
     "text": [
      "\n",
      "The accuracy for our model is  0.8695\n",
      "The True Positive Rate is 0.738, The False Positive Rate is 0.0489,\n",
      "The True Negative Rate is 0.951, and the False Negative Rate is 0.262\n",
      "\n"
     ]
    },
    {
     "data": {
      "text/html": [
       "<div>\n",
       "<style scoped>\n",
       "    .dataframe tbody tr th:only-of-type {\n",
       "        vertical-align: middle;\n",
       "    }\n",
       "\n",
       "    .dataframe tbody tr th {\n",
       "        vertical-align: top;\n",
       "    }\n",
       "\n",
       "    .dataframe thead th {\n",
       "        text-align: right;\n",
       "    }\n",
       "</style>\n",
       "<table border=\"1\" class=\"dataframe\">\n",
       "  <thead>\n",
       "    <tr style=\"text-align: right;\">\n",
       "      <th></th>\n",
       "      <th>precision</th>\n",
       "      <th>recall</th>\n",
       "      <th>f1-score</th>\n",
       "      <th>support</th>\n",
       "    </tr>\n",
       "  </thead>\n",
       "  <tbody>\n",
       "    <tr>\n",
       "      <th>0</th>\n",
       "      <td>0.853801</td>\n",
       "      <td>0.951140</td>\n",
       "      <td>0.899846</td>\n",
       "      <td>307.000000</td>\n",
       "    </tr>\n",
       "    <tr>\n",
       "      <th>1</th>\n",
       "      <td>0.903846</td>\n",
       "      <td>0.738220</td>\n",
       "      <td>0.812680</td>\n",
       "      <td>191.000000</td>\n",
       "    </tr>\n",
       "    <tr>\n",
       "      <th>accuracy</th>\n",
       "      <td>0.869478</td>\n",
       "      <td>0.869478</td>\n",
       "      <td>0.869478</td>\n",
       "      <td>0.869478</td>\n",
       "    </tr>\n",
       "    <tr>\n",
       "      <th>macro avg</th>\n",
       "      <td>0.878824</td>\n",
       "      <td>0.844680</td>\n",
       "      <td>0.856263</td>\n",
       "      <td>498.000000</td>\n",
       "    </tr>\n",
       "    <tr>\n",
       "      <th>weighted avg</th>\n",
       "      <td>0.872995</td>\n",
       "      <td>0.869478</td>\n",
       "      <td>0.866415</td>\n",
       "      <td>498.000000</td>\n",
       "    </tr>\n",
       "  </tbody>\n",
       "</table>\n",
       "</div>"
      ],
      "text/plain": [
       "              precision    recall  f1-score     support\n",
       "0              0.853801  0.951140  0.899846  307.000000\n",
       "1              0.903846  0.738220  0.812680  191.000000\n",
       "accuracy       0.869478  0.869478  0.869478    0.869478\n",
       "macro avg      0.878824  0.844680  0.856263  498.000000\n",
       "weighted avg   0.872995  0.869478  0.866415  498.000000"
      ]
     },
     "execution_count": 120,
     "metadata": {},
     "output_type": "execute_result"
    }
   ],
   "source": [
    "accuracy = rf.score(x_train, y_train)\n",
    "y_pred = rf.predict(x_train)\n",
    "conf = confusion_matrix(y_train, y_pred)\n",
    "class_report = pd.DataFrame(classification_report(y_train, y_pred, output_dict=True)).T\n",
    "conf = confusion_matrix(y_train, y_pred)\n",
    "tpr = conf[1][1] / conf[1].sum()\n",
    "fpr = conf[0][1] / conf[0].sum()\n",
    "tnr = conf[0][0] / conf[0].sum()\n",
    "fnr = conf[1][0] / conf[1].sum()\n",
    "print(f'''\n",
    "The accuracy for our model is {accuracy: .4}\n",
    "The True Positive Rate is {tpr:.3}, The False Positive Rate is {fpr:.3},\n",
    "The True Negative Rate is {tnr:.3}, and the False Negative Rate is {fnr:.3}\n",
    "''')\n",
    "class_report"
   ]
  },
  {
   "cell_type": "code",
   "execution_count": 121,
   "id": "80cca8d7",
   "metadata": {},
   "outputs": [
    {
     "data": {
      "text/plain": [
       "0.8177570093457944"
      ]
     },
     "execution_count": 121,
     "metadata": {},
     "output_type": "execute_result"
    }
   ],
   "source": [
    "rf.score(x_validate, y_validate)"
   ]
  },
  {
   "cell_type": "code",
   "execution_count": 122,
   "id": "9b57b7e2",
   "metadata": {},
   "outputs": [],
   "source": [
    "# It looks like the one with the highest max_depth and lowest min_sample_leaf performs the best in terms of metrics\n",
    "# but I wonder to what degree this is just overfitting. "
   ]
  },
  {
   "cell_type": "code",
   "execution_count": 123,
   "id": "42aff51b",
   "metadata": {},
   "outputs": [],
   "source": [
    "#################################################         KNN Exercise"
   ]
  },
  {
   "cell_type": "code",
   "execution_count": 124,
   "id": "6ccb2ef8",
   "metadata": {},
   "outputs": [],
   "source": [
    "# 1. Fit a K-Nearest Neighbors classifier to your training sample and transform"
   ]
  },
  {
   "cell_type": "code",
   "execution_count": 125,
   "id": "8de993d0",
   "metadata": {},
   "outputs": [
    {
     "name": "stdout",
     "output_type": "stream",
     "text": [
      "Using cached csv\n"
     ]
    }
   ],
   "source": [
    "titanic = acquire.get_titanic_data()"
   ]
  },
  {
   "cell_type": "code",
   "execution_count": 126,
   "id": "19c6a7b9",
   "metadata": {},
   "outputs": [],
   "source": [
    "titanic = prepare.prep_titanic(titanic)"
   ]
  },
  {
   "cell_type": "code",
   "execution_count": 128,
   "id": "65673a8d",
   "metadata": {},
   "outputs": [],
   "source": [
    "from sklearn.neighbors import KNeighborsClassifier"
   ]
  },
  {
   "cell_type": "code",
   "execution_count": 129,
   "id": "03c94049",
   "metadata": {},
   "outputs": [
    {
     "data": {
      "text/html": [
       "<div>\n",
       "<style scoped>\n",
       "    .dataframe tbody tr th:only-of-type {\n",
       "        vertical-align: middle;\n",
       "    }\n",
       "\n",
       "    .dataframe tbody tr th {\n",
       "        vertical-align: top;\n",
       "    }\n",
       "\n",
       "    .dataframe thead th {\n",
       "        text-align: right;\n",
       "    }\n",
       "</style>\n",
       "<table border=\"1\" class=\"dataframe\">\n",
       "  <thead>\n",
       "    <tr style=\"text-align: right;\">\n",
       "      <th></th>\n",
       "      <th>survived</th>\n",
       "      <th>pclass</th>\n",
       "      <th>sibsp</th>\n",
       "      <th>parch</th>\n",
       "      <th>fare</th>\n",
       "      <th>alone</th>\n",
       "      <th>sex_male</th>\n",
       "      <th>embark_town_Queenstown</th>\n",
       "      <th>embark_town_Southampton</th>\n",
       "    </tr>\n",
       "  </thead>\n",
       "  <tbody>\n",
       "    <tr>\n",
       "      <th>0</th>\n",
       "      <td>0</td>\n",
       "      <td>3</td>\n",
       "      <td>1</td>\n",
       "      <td>0</td>\n",
       "      <td>7.2500</td>\n",
       "      <td>0</td>\n",
       "      <td>1</td>\n",
       "      <td>0</td>\n",
       "      <td>1</td>\n",
       "    </tr>\n",
       "    <tr>\n",
       "      <th>1</th>\n",
       "      <td>1</td>\n",
       "      <td>1</td>\n",
       "      <td>1</td>\n",
       "      <td>0</td>\n",
       "      <td>71.2833</td>\n",
       "      <td>0</td>\n",
       "      <td>0</td>\n",
       "      <td>0</td>\n",
       "      <td>0</td>\n",
       "    </tr>\n",
       "    <tr>\n",
       "      <th>2</th>\n",
       "      <td>1</td>\n",
       "      <td>3</td>\n",
       "      <td>0</td>\n",
       "      <td>0</td>\n",
       "      <td>7.9250</td>\n",
       "      <td>1</td>\n",
       "      <td>0</td>\n",
       "      <td>0</td>\n",
       "      <td>1</td>\n",
       "    </tr>\n",
       "    <tr>\n",
       "      <th>3</th>\n",
       "      <td>1</td>\n",
       "      <td>1</td>\n",
       "      <td>1</td>\n",
       "      <td>0</td>\n",
       "      <td>53.1000</td>\n",
       "      <td>0</td>\n",
       "      <td>0</td>\n",
       "      <td>0</td>\n",
       "      <td>1</td>\n",
       "    </tr>\n",
       "    <tr>\n",
       "      <th>4</th>\n",
       "      <td>0</td>\n",
       "      <td>3</td>\n",
       "      <td>0</td>\n",
       "      <td>0</td>\n",
       "      <td>8.0500</td>\n",
       "      <td>1</td>\n",
       "      <td>1</td>\n",
       "      <td>0</td>\n",
       "      <td>1</td>\n",
       "    </tr>\n",
       "  </tbody>\n",
       "</table>\n",
       "</div>"
      ],
      "text/plain": [
       "   survived  pclass  sibsp  parch     fare  alone  sex_male  \\\n",
       "0         0       3      1      0   7.2500      0         1   \n",
       "1         1       1      1      0  71.2833      0         0   \n",
       "2         1       3      0      0   7.9250      1         0   \n",
       "3         1       1      1      0  53.1000      0         0   \n",
       "4         0       3      0      0   8.0500      1         1   \n",
       "\n",
       "   embark_town_Queenstown  embark_town_Southampton  \n",
       "0                       0                        1  \n",
       "1                       0                        0  \n",
       "2                       0                        1  \n",
       "3                       0                        1  \n",
       "4                       0                        1  "
      ]
     },
     "execution_count": 129,
     "metadata": {},
     "output_type": "execute_result"
    }
   ],
   "source": [
    "titanic.head()"
   ]
  },
  {
   "cell_type": "code",
   "execution_count": 130,
   "id": "6960170d",
   "metadata": {},
   "outputs": [],
   "source": [
    "titanic['baseline'] = 0"
   ]
  },
  {
   "cell_type": "code",
   "execution_count": 131,
   "id": "37fe1f24",
   "metadata": {},
   "outputs": [
    {
     "data": {
      "text/plain": [
       "0    549\n",
       "1    342\n",
       "Name: survived, dtype: int64"
      ]
     },
     "execution_count": 131,
     "metadata": {},
     "output_type": "execute_result"
    }
   ],
   "source": [
    "titanic.survived.value_counts()"
   ]
  },
  {
   "cell_type": "code",
   "execution_count": 132,
   "id": "f20e272f",
   "metadata": {},
   "outputs": [
    {
     "data": {
      "text/plain": [
       "0.6161616161616161"
      ]
     },
     "execution_count": 132,
     "metadata": {},
     "output_type": "execute_result"
    }
   ],
   "source": [
    "# Baseline accuracy for 'survival' target variable\n",
    "accuracy_score(titanic.survived, titanic.baseline)"
   ]
  },
  {
   "cell_type": "code",
   "execution_count": 134,
   "id": "84ab25c7",
   "metadata": {},
   "outputs": [],
   "source": [
    "titanic.drop(columns='baseline', inplace=True)"
   ]
  },
  {
   "cell_type": "code",
   "execution_count": 136,
   "id": "338c3a99",
   "metadata": {},
   "outputs": [],
   "source": [
    "train, validate, test = train_validate_test_split(titanic, 'survived', seed=123)"
   ]
  },
  {
   "cell_type": "code",
   "execution_count": 137,
   "id": "916ac242",
   "metadata": {},
   "outputs": [
    {
     "data": {
      "text/plain": [
       "((498, 9), (214, 9), (179, 9))"
      ]
     },
     "execution_count": 137,
     "metadata": {},
     "output_type": "execute_result"
    }
   ],
   "source": [
    "train.shape, validate.shape, test.shape"
   ]
  },
  {
   "cell_type": "code",
   "execution_count": 138,
   "id": "bcfa5774",
   "metadata": {},
   "outputs": [],
   "source": [
    "x_train = train.drop(columns='survived')\n",
    "y_train = train.survived"
   ]
  },
  {
   "cell_type": "code",
   "execution_count": 139,
   "id": "7ec1ba8e",
   "metadata": {},
   "outputs": [],
   "source": [
    "x_validate = validate.drop(columns='survived')\n",
    "y_validate = validate.survived\n",
    "x_test = test.drop(columns='survived')\n",
    "y_test = test.survived"
   ]
  },
  {
   "cell_type": "code",
   "execution_count": 141,
   "id": "75445249",
   "metadata": {},
   "outputs": [],
   "source": [
    "# Create KNN object\n",
    "knn = KNeighborsClassifier(n_neighbors=5, weights='uniform')"
   ]
  },
  {
   "cell_type": "code",
   "execution_count": 142,
   "id": "1f533894",
   "metadata": {},
   "outputs": [
    {
     "data": {
      "text/plain": [
       "KNeighborsClassifier()"
      ]
     },
     "execution_count": 142,
     "metadata": {},
     "output_type": "execute_result"
    }
   ],
   "source": [
    "# Fit model to training data\n",
    "knn.fit(x_train, y_train)"
   ]
  },
  {
   "cell_type": "code",
   "execution_count": 143,
   "id": "e4760e83",
   "metadata": {},
   "outputs": [],
   "source": [
    "y_pred = knn.predict(x_train)"
   ]
  },
  {
   "cell_type": "code",
   "execution_count": 144,
   "id": "6400ac42",
   "metadata": {},
   "outputs": [],
   "source": [
    "y_pred_proba = knn.predict_proba(x_train)"
   ]
  },
  {
   "cell_type": "code",
   "execution_count": 145,
   "id": "a713cb95",
   "metadata": {},
   "outputs": [
    {
     "data": {
      "text/plain": [
       "0.8072289156626506"
      ]
     },
     "execution_count": 145,
     "metadata": {},
     "output_type": "execute_result"
    }
   ],
   "source": [
    "knn.score(x_train, y_train)"
   ]
  },
  {
   "cell_type": "code",
   "execution_count": 146,
   "id": "8c0c68c0",
   "metadata": {},
   "outputs": [
    {
     "name": "stdout",
     "output_type": "stream",
     "text": [
      "[[265  42]\n",
      " [ 54 137]]\n"
     ]
    }
   ],
   "source": [
    "print(confusion_matrix(y_train, y_pred))"
   ]
  },
  {
   "cell_type": "code",
   "execution_count": 147,
   "id": "d66c21ed",
   "metadata": {},
   "outputs": [
    {
     "name": "stdout",
     "output_type": "stream",
     "text": [
      "              precision    recall  f1-score   support\n",
      "\n",
      "           0       0.83      0.86      0.85       307\n",
      "           1       0.77      0.72      0.74       191\n",
      "\n",
      "    accuracy                           0.81       498\n",
      "   macro avg       0.80      0.79      0.79       498\n",
      "weighted avg       0.81      0.81      0.81       498\n",
      "\n"
     ]
    }
   ],
   "source": [
    "print(classification_report(y_train, y_pred))"
   ]
  },
  {
   "cell_type": "code",
   "execution_count": 148,
   "id": "d3af9790",
   "metadata": {},
   "outputs": [
    {
     "data": {
      "text/plain": [
       "0.7429906542056075"
      ]
     },
     "execution_count": 148,
     "metadata": {},
     "output_type": "execute_result"
    }
   ],
   "source": [
    "knn.score(x_validate, y_validate)"
   ]
  },
  {
   "cell_type": "code",
   "execution_count": 149,
   "id": "953af626",
   "metadata": {},
   "outputs": [
    {
     "name": "stdout",
     "output_type": "stream",
     "text": [
      "\n",
      "The accuracy for our model is  0.8072\n",
      "The True Positive Rate is 0.717, The False Positive Rate is 0.137,\n",
      "The True Negative Rate is 0.863, and the False Negative Rate is 0.283\n",
      "\n"
     ]
    },
    {
     "data": {
      "text/html": [
       "<div>\n",
       "<style scoped>\n",
       "    .dataframe tbody tr th:only-of-type {\n",
       "        vertical-align: middle;\n",
       "    }\n",
       "\n",
       "    .dataframe tbody tr th {\n",
       "        vertical-align: top;\n",
       "    }\n",
       "\n",
       "    .dataframe thead th {\n",
       "        text-align: right;\n",
       "    }\n",
       "</style>\n",
       "<table border=\"1\" class=\"dataframe\">\n",
       "  <thead>\n",
       "    <tr style=\"text-align: right;\">\n",
       "      <th></th>\n",
       "      <th>precision</th>\n",
       "      <th>recall</th>\n",
       "      <th>f1-score</th>\n",
       "      <th>support</th>\n",
       "    </tr>\n",
       "  </thead>\n",
       "  <tbody>\n",
       "    <tr>\n",
       "      <th>0</th>\n",
       "      <td>0.830721</td>\n",
       "      <td>0.863192</td>\n",
       "      <td>0.846645</td>\n",
       "      <td>307.000000</td>\n",
       "    </tr>\n",
       "    <tr>\n",
       "      <th>1</th>\n",
       "      <td>0.765363</td>\n",
       "      <td>0.717277</td>\n",
       "      <td>0.740541</td>\n",
       "      <td>191.000000</td>\n",
       "    </tr>\n",
       "    <tr>\n",
       "      <th>accuracy</th>\n",
       "      <td>0.807229</td>\n",
       "      <td>0.807229</td>\n",
       "      <td>0.807229</td>\n",
       "      <td>0.807229</td>\n",
       "    </tr>\n",
       "    <tr>\n",
       "      <th>macro avg</th>\n",
       "      <td>0.798042</td>\n",
       "      <td>0.790235</td>\n",
       "      <td>0.793593</td>\n",
       "      <td>498.000000</td>\n",
       "    </tr>\n",
       "    <tr>\n",
       "      <th>weighted avg</th>\n",
       "      <td>0.805654</td>\n",
       "      <td>0.807229</td>\n",
       "      <td>0.805951</td>\n",
       "      <td>498.000000</td>\n",
       "    </tr>\n",
       "  </tbody>\n",
       "</table>\n",
       "</div>"
      ],
      "text/plain": [
       "              precision    recall  f1-score     support\n",
       "0              0.830721  0.863192  0.846645  307.000000\n",
       "1              0.765363  0.717277  0.740541  191.000000\n",
       "accuracy       0.807229  0.807229  0.807229    0.807229\n",
       "macro avg      0.798042  0.790235  0.793593  498.000000\n",
       "weighted avg   0.805654  0.807229  0.805951  498.000000"
      ]
     },
     "execution_count": 149,
     "metadata": {},
     "output_type": "execute_result"
    }
   ],
   "source": [
    "# Reports for the training set\n",
    "\n",
    "accuracy = knn.score(x_train, y_train)\n",
    "y_pred = knn.predict(x_train)\n",
    "conf = confusion_matrix(y_train, y_pred)\n",
    "class_report = pd.DataFrame(classification_report(y_train, y_pred, output_dict=True)).T\n",
    "conf = confusion_matrix(y_train, y_pred)\n",
    "tpr = conf[1][1] / conf[1].sum()\n",
    "fpr = conf[0][1] / conf[0].sum()\n",
    "tnr = conf[0][0] / conf[0].sum()\n",
    "fnr = conf[1][0] / conf[1].sum()\n",
    "print(f'''\n",
    "The accuracy for our model is {accuracy: .4}\n",
    "The True Positive Rate is {tpr:.3}, The False Positive Rate is {fpr:.3},\n",
    "The True Negative Rate is {tnr:.3}, and the False Negative Rate is {fnr:.3}\n",
    "''')\n",
    "class_report"
   ]
  },
  {
   "cell_type": "code",
   "execution_count": 150,
   "id": "3951bc59",
   "metadata": {},
   "outputs": [
    {
     "name": "stdout",
     "output_type": "stream",
     "text": [
      "\n",
      "The accuracy for our model is  0.743\n",
      "The True Positive Rate is 0.622, The False Positive Rate is 0.182,\n",
      "The True Negative Rate is 0.818, and the False Negative Rate is 0.378\n",
      "\n"
     ]
    },
    {
     "data": {
      "text/html": [
       "<div>\n",
       "<style scoped>\n",
       "    .dataframe tbody tr th:only-of-type {\n",
       "        vertical-align: middle;\n",
       "    }\n",
       "\n",
       "    .dataframe tbody tr th {\n",
       "        vertical-align: top;\n",
       "    }\n",
       "\n",
       "    .dataframe thead th {\n",
       "        text-align: right;\n",
       "    }\n",
       "</style>\n",
       "<table border=\"1\" class=\"dataframe\">\n",
       "  <thead>\n",
       "    <tr style=\"text-align: right;\">\n",
       "      <th></th>\n",
       "      <th>precision</th>\n",
       "      <th>recall</th>\n",
       "      <th>f1-score</th>\n",
       "      <th>support</th>\n",
       "    </tr>\n",
       "  </thead>\n",
       "  <tbody>\n",
       "    <tr>\n",
       "      <th>0</th>\n",
       "      <td>0.776978</td>\n",
       "      <td>0.818182</td>\n",
       "      <td>0.797048</td>\n",
       "      <td>132.000000</td>\n",
       "    </tr>\n",
       "    <tr>\n",
       "      <th>1</th>\n",
       "      <td>0.680000</td>\n",
       "      <td>0.621951</td>\n",
       "      <td>0.649682</td>\n",
       "      <td>82.000000</td>\n",
       "    </tr>\n",
       "    <tr>\n",
       "      <th>accuracy</th>\n",
       "      <td>0.742991</td>\n",
       "      <td>0.742991</td>\n",
       "      <td>0.742991</td>\n",
       "      <td>0.742991</td>\n",
       "    </tr>\n",
       "    <tr>\n",
       "      <th>macro avg</th>\n",
       "      <td>0.728489</td>\n",
       "      <td>0.720067</td>\n",
       "      <td>0.723365</td>\n",
       "      <td>214.000000</td>\n",
       "    </tr>\n",
       "    <tr>\n",
       "      <th>weighted avg</th>\n",
       "      <td>0.739818</td>\n",
       "      <td>0.742991</td>\n",
       "      <td>0.740580</td>\n",
       "      <td>214.000000</td>\n",
       "    </tr>\n",
       "  </tbody>\n",
       "</table>\n",
       "</div>"
      ],
      "text/plain": [
       "              precision    recall  f1-score     support\n",
       "0              0.776978  0.818182  0.797048  132.000000\n",
       "1              0.680000  0.621951  0.649682   82.000000\n",
       "accuracy       0.742991  0.742991  0.742991    0.742991\n",
       "macro avg      0.728489  0.720067  0.723365  214.000000\n",
       "weighted avg   0.739818  0.742991  0.740580  214.000000"
      ]
     },
     "execution_count": 150,
     "metadata": {},
     "output_type": "execute_result"
    }
   ],
   "source": [
    "# Reports for validate set\n",
    "y_pred = knn.predict(x_validate)\n",
    "\n",
    "accuracy = knn.score(x_validate, y_validate)\n",
    "y_pred = knn.predict(x_validate)\n",
    "conf = confusion_matrix(y_validate, y_pred)\n",
    "class_report = pd.DataFrame(classification_report(y_validate, y_pred, output_dict=True)).T\n",
    "conf = confusion_matrix(y_validate, y_pred)\n",
    "tpr = conf[1][1] / conf[1].sum()\n",
    "fpr = conf[0][1] / conf[0].sum()\n",
    "tnr = conf[0][0] / conf[0].sum()\n",
    "fnr = conf[1][0] / conf[1].sum()\n",
    "print(f'''\n",
    "The accuracy for our model is {accuracy: .4}\n",
    "The True Positive Rate is {tpr:.3}, The False Positive Rate is {fpr:.3},\n",
    "The True Negative Rate is {tnr:.3}, and the False Negative Rate is {fnr:.3}\n",
    "''')\n",
    "class_report"
   ]
  },
  {
   "cell_type": "code",
   "execution_count": 151,
   "id": "d105cc03",
   "metadata": {},
   "outputs": [],
   "source": [
    "# Do same with k=10"
   ]
  },
  {
   "cell_type": "code",
   "execution_count": 152,
   "id": "4fbbcfd3",
   "metadata": {},
   "outputs": [],
   "source": [
    "knn = KNeighborsClassifier(n_neighbors=10, weights='uniform')"
   ]
  },
  {
   "cell_type": "code",
   "execution_count": 153,
   "id": "82681a5d",
   "metadata": {},
   "outputs": [
    {
     "data": {
      "text/plain": [
       "KNeighborsClassifier(n_neighbors=10)"
      ]
     },
     "execution_count": 153,
     "metadata": {},
     "output_type": "execute_result"
    }
   ],
   "source": [
    "knn.fit(x_train, y_train)"
   ]
  },
  {
   "cell_type": "code",
   "execution_count": 154,
   "id": "436a8461",
   "metadata": {},
   "outputs": [],
   "source": [
    "y_pred = knn.predict(x_train)"
   ]
  },
  {
   "cell_type": "code",
   "execution_count": 155,
   "id": "6a0bbfda",
   "metadata": {},
   "outputs": [
    {
     "name": "stdout",
     "output_type": "stream",
     "text": [
      "\n",
      "The accuracy for our model is  0.7831\n",
      "The True Positive Rate is 0.644, The False Positive Rate is 0.13,\n",
      "The True Negative Rate is 0.87, and the False Negative Rate is 0.356\n",
      "\n"
     ]
    },
    {
     "data": {
      "text/html": [
       "<div>\n",
       "<style scoped>\n",
       "    .dataframe tbody tr th:only-of-type {\n",
       "        vertical-align: middle;\n",
       "    }\n",
       "\n",
       "    .dataframe tbody tr th {\n",
       "        vertical-align: top;\n",
       "    }\n",
       "\n",
       "    .dataframe thead th {\n",
       "        text-align: right;\n",
       "    }\n",
       "</style>\n",
       "<table border=\"1\" class=\"dataframe\">\n",
       "  <thead>\n",
       "    <tr style=\"text-align: right;\">\n",
       "      <th></th>\n",
       "      <th>precision</th>\n",
       "      <th>recall</th>\n",
       "      <th>f1-score</th>\n",
       "      <th>support</th>\n",
       "    </tr>\n",
       "  </thead>\n",
       "  <tbody>\n",
       "    <tr>\n",
       "      <th>0</th>\n",
       "      <td>0.797015</td>\n",
       "      <td>0.869707</td>\n",
       "      <td>0.831776</td>\n",
       "      <td>307.000000</td>\n",
       "    </tr>\n",
       "    <tr>\n",
       "      <th>1</th>\n",
       "      <td>0.754601</td>\n",
       "      <td>0.643979</td>\n",
       "      <td>0.694915</td>\n",
       "      <td>191.000000</td>\n",
       "    </tr>\n",
       "    <tr>\n",
       "      <th>accuracy</th>\n",
       "      <td>0.783133</td>\n",
       "      <td>0.783133</td>\n",
       "      <td>0.783133</td>\n",
       "      <td>0.783133</td>\n",
       "    </tr>\n",
       "    <tr>\n",
       "      <th>macro avg</th>\n",
       "      <td>0.775808</td>\n",
       "      <td>0.756843</td>\n",
       "      <td>0.763345</td>\n",
       "      <td>498.000000</td>\n",
       "    </tr>\n",
       "    <tr>\n",
       "      <th>weighted avg</th>\n",
       "      <td>0.780748</td>\n",
       "      <td>0.783133</td>\n",
       "      <td>0.779285</td>\n",
       "      <td>498.000000</td>\n",
       "    </tr>\n",
       "  </tbody>\n",
       "</table>\n",
       "</div>"
      ],
      "text/plain": [
       "              precision    recall  f1-score     support\n",
       "0              0.797015  0.869707  0.831776  307.000000\n",
       "1              0.754601  0.643979  0.694915  191.000000\n",
       "accuracy       0.783133  0.783133  0.783133    0.783133\n",
       "macro avg      0.775808  0.756843  0.763345  498.000000\n",
       "weighted avg   0.780748  0.783133  0.779285  498.000000"
      ]
     },
     "execution_count": 155,
     "metadata": {},
     "output_type": "execute_result"
    }
   ],
   "source": [
    "# Reports for the training set\n",
    "\n",
    "accuracy = knn.score(x_train, y_train)\n",
    "y_pred = knn.predict(x_train)\n",
    "conf = confusion_matrix(y_train, y_pred)\n",
    "class_report = pd.DataFrame(classification_report(y_train, y_pred, output_dict=True)).T\n",
    "conf = confusion_matrix(y_train, y_pred)\n",
    "tpr = conf[1][1] / conf[1].sum()\n",
    "fpr = conf[0][1] / conf[0].sum()\n",
    "tnr = conf[0][0] / conf[0].sum()\n",
    "fnr = conf[1][0] / conf[1].sum()\n",
    "print(f'''\n",
    "The accuracy for our model is {accuracy: .4}\n",
    "The True Positive Rate is {tpr:.3}, The False Positive Rate is {fpr:.3},\n",
    "The True Negative Rate is {tnr:.3}, and the False Negative Rate is {fnr:.3}\n",
    "''')\n",
    "class_report"
   ]
  },
  {
   "cell_type": "code",
   "execution_count": 156,
   "id": "2465a34e",
   "metadata": {},
   "outputs": [],
   "source": [
    "y_pred = knn.predict(x_validate)"
   ]
  },
  {
   "cell_type": "code",
   "execution_count": 157,
   "id": "200a26af",
   "metadata": {},
   "outputs": [
    {
     "name": "stdout",
     "output_type": "stream",
     "text": [
      "\n",
      "The accuracy for our model is  0.715\n",
      "The True Positive Rate is 0.561, The False Positive Rate is 0.189,\n",
      "The True Negative Rate is 0.811, and the False Negative Rate is 0.439\n",
      "\n"
     ]
    },
    {
     "data": {
      "text/html": [
       "<div>\n",
       "<style scoped>\n",
       "    .dataframe tbody tr th:only-of-type {\n",
       "        vertical-align: middle;\n",
       "    }\n",
       "\n",
       "    .dataframe tbody tr th {\n",
       "        vertical-align: top;\n",
       "    }\n",
       "\n",
       "    .dataframe thead th {\n",
       "        text-align: right;\n",
       "    }\n",
       "</style>\n",
       "<table border=\"1\" class=\"dataframe\">\n",
       "  <thead>\n",
       "    <tr style=\"text-align: right;\">\n",
       "      <th></th>\n",
       "      <th>precision</th>\n",
       "      <th>recall</th>\n",
       "      <th>f1-score</th>\n",
       "      <th>support</th>\n",
       "    </tr>\n",
       "  </thead>\n",
       "  <tbody>\n",
       "    <tr>\n",
       "      <th>0</th>\n",
       "      <td>0.748252</td>\n",
       "      <td>0.810606</td>\n",
       "      <td>0.778182</td>\n",
       "      <td>132.000000</td>\n",
       "    </tr>\n",
       "    <tr>\n",
       "      <th>1</th>\n",
       "      <td>0.647887</td>\n",
       "      <td>0.560976</td>\n",
       "      <td>0.601307</td>\n",
       "      <td>82.000000</td>\n",
       "    </tr>\n",
       "    <tr>\n",
       "      <th>accuracy</th>\n",
       "      <td>0.714953</td>\n",
       "      <td>0.714953</td>\n",
       "      <td>0.714953</td>\n",
       "      <td>0.714953</td>\n",
       "    </tr>\n",
       "    <tr>\n",
       "      <th>macro avg</th>\n",
       "      <td>0.698070</td>\n",
       "      <td>0.685791</td>\n",
       "      <td>0.689745</td>\n",
       "      <td>214.000000</td>\n",
       "    </tr>\n",
       "    <tr>\n",
       "      <th>weighted avg</th>\n",
       "      <td>0.709794</td>\n",
       "      <td>0.714953</td>\n",
       "      <td>0.710407</td>\n",
       "      <td>214.000000</td>\n",
       "    </tr>\n",
       "  </tbody>\n",
       "</table>\n",
       "</div>"
      ],
      "text/plain": [
       "              precision    recall  f1-score     support\n",
       "0              0.748252  0.810606  0.778182  132.000000\n",
       "1              0.647887  0.560976  0.601307   82.000000\n",
       "accuracy       0.714953  0.714953  0.714953    0.714953\n",
       "macro avg      0.698070  0.685791  0.689745  214.000000\n",
       "weighted avg   0.709794  0.714953  0.710407  214.000000"
      ]
     },
     "execution_count": 157,
     "metadata": {},
     "output_type": "execute_result"
    }
   ],
   "source": [
    "# Reports for validate set\n",
    "y_pred = knn.predict(x_validate)\n",
    "\n",
    "accuracy = knn.score(x_validate, y_validate)\n",
    "y_pred = knn.predict(x_validate)\n",
    "conf = confusion_matrix(y_validate, y_pred)\n",
    "class_report = pd.DataFrame(classification_report(y_validate, y_pred, output_dict=True)).T\n",
    "conf = confusion_matrix(y_validate, y_pred)\n",
    "tpr = conf[1][1] / conf[1].sum()\n",
    "fpr = conf[0][1] / conf[0].sum()\n",
    "tnr = conf[0][0] / conf[0].sum()\n",
    "fnr = conf[1][0] / conf[1].sum()\n",
    "print(f'''\n",
    "The accuracy for our model is {accuracy: .4}\n",
    "The True Positive Rate is {tpr:.3}, The False Positive Rate is {fpr:.3},\n",
    "The True Negative Rate is {tnr:.3}, and the False Negative Rate is {fnr:.3}\n",
    "''')\n",
    "class_report"
   ]
  },
  {
   "cell_type": "code",
   "execution_count": 158,
   "id": "4e523fdc",
   "metadata": {},
   "outputs": [],
   "source": [
    "# k = 20"
   ]
  },
  {
   "cell_type": "code",
   "execution_count": 160,
   "id": "e5dc39e8",
   "metadata": {},
   "outputs": [],
   "source": [
    "knn = KNeighborsClassifier(n_neighbors=20, weights='uniform')"
   ]
  },
  {
   "cell_type": "code",
   "execution_count": 161,
   "id": "b9961197",
   "metadata": {},
   "outputs": [
    {
     "data": {
      "text/plain": [
       "KNeighborsClassifier(n_neighbors=20)"
      ]
     },
     "execution_count": 161,
     "metadata": {},
     "output_type": "execute_result"
    }
   ],
   "source": [
    "knn.fit(x_train, y_train)"
   ]
  },
  {
   "cell_type": "code",
   "execution_count": 162,
   "id": "ea1d4029",
   "metadata": {},
   "outputs": [],
   "source": [
    "y_pred = knn.predict(x_train)"
   ]
  },
  {
   "cell_type": "code",
   "execution_count": 163,
   "id": "4d0ac6c2",
   "metadata": {},
   "outputs": [
    {
     "name": "stdout",
     "output_type": "stream",
     "text": [
      "\n",
      "The accuracy for our model is  0.7369\n",
      "The True Positive Rate is 0.545, The False Positive Rate is 0.143,\n",
      "The True Negative Rate is 0.857, and the False Negative Rate is 0.455\n",
      "\n"
     ]
    },
    {
     "data": {
      "text/html": [
       "<div>\n",
       "<style scoped>\n",
       "    .dataframe tbody tr th:only-of-type {\n",
       "        vertical-align: middle;\n",
       "    }\n",
       "\n",
       "    .dataframe tbody tr th {\n",
       "        vertical-align: top;\n",
       "    }\n",
       "\n",
       "    .dataframe thead th {\n",
       "        text-align: right;\n",
       "    }\n",
       "</style>\n",
       "<table border=\"1\" class=\"dataframe\">\n",
       "  <thead>\n",
       "    <tr style=\"text-align: right;\">\n",
       "      <th></th>\n",
       "      <th>precision</th>\n",
       "      <th>recall</th>\n",
       "      <th>f1-score</th>\n",
       "      <th>support</th>\n",
       "    </tr>\n",
       "  </thead>\n",
       "  <tbody>\n",
       "    <tr>\n",
       "      <th>0</th>\n",
       "      <td>0.751429</td>\n",
       "      <td>0.856678</td>\n",
       "      <td>0.800609</td>\n",
       "      <td>307.000000</td>\n",
       "    </tr>\n",
       "    <tr>\n",
       "      <th>1</th>\n",
       "      <td>0.702703</td>\n",
       "      <td>0.544503</td>\n",
       "      <td>0.613569</td>\n",
       "      <td>191.000000</td>\n",
       "    </tr>\n",
       "    <tr>\n",
       "      <th>accuracy</th>\n",
       "      <td>0.736948</td>\n",
       "      <td>0.736948</td>\n",
       "      <td>0.736948</td>\n",
       "      <td>0.736948</td>\n",
       "    </tr>\n",
       "    <tr>\n",
       "      <th>macro avg</th>\n",
       "      <td>0.727066</td>\n",
       "      <td>0.700590</td>\n",
       "      <td>0.707089</td>\n",
       "      <td>498.000000</td>\n",
       "    </tr>\n",
       "    <tr>\n",
       "      <th>weighted avg</th>\n",
       "      <td>0.732741</td>\n",
       "      <td>0.736948</td>\n",
       "      <td>0.728873</td>\n",
       "      <td>498.000000</td>\n",
       "    </tr>\n",
       "  </tbody>\n",
       "</table>\n",
       "</div>"
      ],
      "text/plain": [
       "              precision    recall  f1-score     support\n",
       "0              0.751429  0.856678  0.800609  307.000000\n",
       "1              0.702703  0.544503  0.613569  191.000000\n",
       "accuracy       0.736948  0.736948  0.736948    0.736948\n",
       "macro avg      0.727066  0.700590  0.707089  498.000000\n",
       "weighted avg   0.732741  0.736948  0.728873  498.000000"
      ]
     },
     "execution_count": 163,
     "metadata": {},
     "output_type": "execute_result"
    }
   ],
   "source": [
    "# Reports for the training set\n",
    "\n",
    "accuracy = knn.score(x_train, y_train)\n",
    "y_pred = knn.predict(x_train)\n",
    "conf = confusion_matrix(y_train, y_pred)\n",
    "class_report = pd.DataFrame(classification_report(y_train, y_pred, output_dict=True)).T\n",
    "conf = confusion_matrix(y_train, y_pred)\n",
    "tpr = conf[1][1] / conf[1].sum()\n",
    "fpr = conf[0][1] / conf[0].sum()\n",
    "tnr = conf[0][0] / conf[0].sum()\n",
    "fnr = conf[1][0] / conf[1].sum()\n",
    "print(f'''\n",
    "The accuracy for our model is {accuracy: .4}\n",
    "The True Positive Rate is {tpr:.3}, The False Positive Rate is {fpr:.3},\n",
    "The True Negative Rate is {tnr:.3}, and the False Negative Rate is {fnr:.3}\n",
    "''')\n",
    "class_report"
   ]
  },
  {
   "cell_type": "code",
   "execution_count": 164,
   "id": "69b28df8",
   "metadata": {},
   "outputs": [],
   "source": [
    "y_pred = knn.predict(x_validate)"
   ]
  },
  {
   "cell_type": "code",
   "execution_count": 165,
   "id": "f1ebbd18",
   "metadata": {},
   "outputs": [
    {
     "name": "stdout",
     "output_type": "stream",
     "text": [
      "\n",
      "The accuracy for our model is  0.6729\n",
      "The True Positive Rate is 0.463, The False Positive Rate is 0.197,\n",
      "The True Negative Rate is 0.803, and the False Negative Rate is 0.537\n",
      "\n"
     ]
    },
    {
     "data": {
      "text/html": [
       "<div>\n",
       "<style scoped>\n",
       "    .dataframe tbody tr th:only-of-type {\n",
       "        vertical-align: middle;\n",
       "    }\n",
       "\n",
       "    .dataframe tbody tr th {\n",
       "        vertical-align: top;\n",
       "    }\n",
       "\n",
       "    .dataframe thead th {\n",
       "        text-align: right;\n",
       "    }\n",
       "</style>\n",
       "<table border=\"1\" class=\"dataframe\">\n",
       "  <thead>\n",
       "    <tr style=\"text-align: right;\">\n",
       "      <th></th>\n",
       "      <th>precision</th>\n",
       "      <th>recall</th>\n",
       "      <th>f1-score</th>\n",
       "      <th>support</th>\n",
       "    </tr>\n",
       "  </thead>\n",
       "  <tbody>\n",
       "    <tr>\n",
       "      <th>0</th>\n",
       "      <td>0.706667</td>\n",
       "      <td>0.803030</td>\n",
       "      <td>0.751773</td>\n",
       "      <td>132.000000</td>\n",
       "    </tr>\n",
       "    <tr>\n",
       "      <th>1</th>\n",
       "      <td>0.593750</td>\n",
       "      <td>0.463415</td>\n",
       "      <td>0.520548</td>\n",
       "      <td>82.000000</td>\n",
       "    </tr>\n",
       "    <tr>\n",
       "      <th>accuracy</th>\n",
       "      <td>0.672897</td>\n",
       "      <td>0.672897</td>\n",
       "      <td>0.672897</td>\n",
       "      <td>0.672897</td>\n",
       "    </tr>\n",
       "    <tr>\n",
       "      <th>macro avg</th>\n",
       "      <td>0.650208</td>\n",
       "      <td>0.633222</td>\n",
       "      <td>0.636160</td>\n",
       "      <td>214.000000</td>\n",
       "    </tr>\n",
       "    <tr>\n",
       "      <th>weighted avg</th>\n",
       "      <td>0.663400</td>\n",
       "      <td>0.672897</td>\n",
       "      <td>0.663173</td>\n",
       "      <td>214.000000</td>\n",
       "    </tr>\n",
       "  </tbody>\n",
       "</table>\n",
       "</div>"
      ],
      "text/plain": [
       "              precision    recall  f1-score     support\n",
       "0              0.706667  0.803030  0.751773  132.000000\n",
       "1              0.593750  0.463415  0.520548   82.000000\n",
       "accuracy       0.672897  0.672897  0.672897    0.672897\n",
       "macro avg      0.650208  0.633222  0.636160  214.000000\n",
       "weighted avg   0.663400  0.672897  0.663173  214.000000"
      ]
     },
     "execution_count": 165,
     "metadata": {},
     "output_type": "execute_result"
    }
   ],
   "source": [
    "# Reports for validate set\n",
    "\n",
    "accuracy = knn.score(x_validate, y_validate)\n",
    "y_pred = knn.predict(x_validate)\n",
    "conf = confusion_matrix(y_validate, y_pred)\n",
    "class_report = pd.DataFrame(classification_report(y_validate, y_pred, output_dict=True)).T\n",
    "conf = confusion_matrix(y_validate, y_pred)\n",
    "tpr = conf[1][1] / conf[1].sum()\n",
    "fpr = conf[0][1] / conf[0].sum()\n",
    "tnr = conf[0][0] / conf[0].sum()\n",
    "fnr = conf[1][0] / conf[1].sum()\n",
    "print(f'''\n",
    "The accuracy for our model is {accuracy: .4}\n",
    "The True Positive Rate is {tpr:.3}, The False Positive Rate is {fpr:.3},\n",
    "The True Negative Rate is {tnr:.3}, and the False Negative Rate is {fnr:.3}\n",
    "''')\n",
    "class_report"
   ]
  },
  {
   "cell_type": "code",
   "execution_count": 166,
   "id": "7ebfdb92",
   "metadata": {},
   "outputs": [],
   "source": [
    "# The metrics go down as the number of neighbors increases. This seems to be the case for the in-sample and \n",
    "# out-of-sample datasets, but it appears to be relatively consistent in drop for both."
   ]
  },
  {
   "cell_type": "code",
   "execution_count": null,
   "id": "2d9e9bcb",
   "metadata": {},
   "outputs": [],
   "source": []
  }
 ],
 "metadata": {
  "kernelspec": {
   "display_name": "Python 3.9.7 64-bit ('base': conda)",
   "language": "python",
   "name": "python397jvsc74a57bd038cca0c38332a56087b24af0bc80247f4fced29cb4f7f437d91dc159adec9c4e"
  },
  "language_info": {
   "codemirror_mode": {
    "name": "ipython",
    "version": 3
   },
   "file_extension": ".py",
   "mimetype": "text/x-python",
   "name": "python",
   "nbconvert_exporter": "python",
   "pygments_lexer": "ipython3",
   "version": "3.9.7"
  }
 },
 "nbformat": 4,
 "nbformat_minor": 5
}
